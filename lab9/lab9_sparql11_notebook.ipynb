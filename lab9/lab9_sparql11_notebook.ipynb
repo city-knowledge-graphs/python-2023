{
 "cells": [
  {
   "cell_type": "markdown",
   "id": "02b1f841",
   "metadata": {},
   "source": [
    "### Dependencies"
   ]
  },
  {
   "cell_type": "code",
   "execution_count": 1,
   "id": "0226d9e7",
   "metadata": {},
   "outputs": [
    {
     "name": "stderr",
     "output_type": "stream",
     "text": [
      "/home/ernesto/Documents/City_Teaching/venv_python/lab2/lib/python3.8/site-packages/rdflib_jsonld/__init__.py:9: DeprecationWarning: The rdflib-jsonld package has been integrated into rdflib as of rdflib==6.0.1.  Please remove rdflib-jsonld from your project's dependencies.\n",
      "  warnings.warn(\n"
     ]
    }
   ],
   "source": [
    "from rdflib import Graph\n",
    "import owlrl"
   ]
  },
  {
   "cell_type": "markdown",
   "id": "34c06ea8",
   "metadata": {},
   "source": [
    "### Method to load data, perform reasoning and print query results"
   ]
  },
  {
   "cell_type": "code",
   "execution_count": 9,
   "id": "3f38c25f",
   "metadata": {},
   "outputs": [],
   "source": [
    "def queryLocalGraph(ontology_file, format_ontology, data_file, format_data, query_file):\n",
    "\n",
    "    g = Graph()\n",
    "    g.parse(data_file, format=format_data)#\n",
    "    if ontology_file is not None: \n",
    "        g.parse(ontology_file, format=format_ontology)\n",
    "    \n",
    "    \n",
    "    print(\"Loaded '\" + str(len(g)) + \"' triples.\")\n",
    "    \n",
    "    #Performs OWL 2 RL  reasoning\n",
    "    print(\"Performing reasoning (may take some time)...\")\n",
    "    owlrl.DeductiveClosure(owlrl.OWLRL_Semantics, axiomatic_triples=True, datatype_axioms=False).expand(g)\n",
    "    \n",
    "    print(\"After reasoning: '\" + str(len(g)) + \"' triples.\")\n",
    "    \n",
    "    \n",
    "    #Load query\n",
    "    query = open(query_file, 'r').read()    \n",
    "    \n",
    "    qres = g.query(query)\n",
    "\n",
    "    print(\"\\nQuery: \")\n",
    "    print(query)\n",
    "    \n",
    "    print(\"\\nResults: \")\n",
    "    \n",
    "    #Print results\n",
    "    for row in qres:        \n",
    "        #Row is a list of matched RDF terms: URIs, literals or blank nodes\n",
    "        row_str =\"\"\n",
    "        for element in row:\n",
    "            row_str += str(element) + \", \"\n",
    "        \n",
    "        print(\"'%s'\" % (str(row_str))) \n"
   ]
  },
  {
   "cell_type": "markdown",
   "id": "a0350729",
   "metadata": {},
   "source": [
    "### Playground dataset"
   ]
  },
  {
   "cell_type": "code",
   "execution_count": 10,
   "id": "4a082cd8",
   "metadata": {},
   "outputs": [
    {
     "name": "stdout",
     "output_type": "stream",
     "text": [
      "Loaded '73' triples.\n",
      "Performing reasoning (may take some time)...\n",
      "After reasoning: '1238' triples.\n",
      "\n",
      "Query: \n",
      "PREFIX ttr: <http://example.org/tuto/resource#>\n",
      "PREFIX tto: <http://example.org/tuto/ontology#>\n",
      "PREFIX dbp: <http://dbpedia.org/property/>\n",
      "SELECT ?pet ?owner where {\n",
      "?pet a tto:Animal .\n",
      "OPTIONAL {?owner tto:pet ?pet}\n",
      "}\n",
      "\n",
      "Results: \n",
      "'http://example.org/tuto/resource#TomCat, http://example.org/tuto/resource#John, '\n",
      "'http://example.org/tuto/resource#RexDog, http://example.org/tuto/resource#William, '\n",
      "'http://example.org/tuto/resource#SnuffMonkey, None, '\n",
      "'http://example.org/tuto/resource#LunaCat, http://example.org/tuto/resource#John, '\n"
     ]
    }
   ],
   "source": [
    "#Playground\n",
    "ontology_file=None\n",
    "format_onto=None\n",
    "dataset=\"./data/playground.ttl\"\n",
    "format_data = \"ttl\"\n",
    "query=\"./data/query_playground.txt\"\n",
    "#query=\"solution/query7.1_playground.txt\"\n",
    "queryLocalGraph(ontology_file, format_onto, dataset, format_data, query)"
   ]
  },
  {
   "cell_type": "markdown",
   "id": "11c2df47",
   "metadata": {},
   "source": [
    "### World cities dataset"
   ]
  },
  {
   "cell_type": "code",
   "execution_count": 6,
   "id": "c3006512",
   "metadata": {},
   "outputs": [
    {
     "name": "stdout",
     "output_type": "stream",
     "text": [
      "Loaded '3768' triples.\n",
      "After inference rules: '6894' triples.\n",
      "After reasoning '6920' triples.\n",
      "\n",
      "Query: \n",
      "PREFIX lab5: <http://www.semanticweb.org/ernesto/in3067-inm713/lab5/>\n",
      "PREFIX rdf: <http://www.w3.org/1999/02/22-rdf-syntax-ns#>\n",
      "PREFIX xsd: <http://www.w3.org/2001/XMLSchema#>\n",
      "SELECT DISTINCT ?country ?city ?pop WHERE {\n",
      "\t?city rdf:type lab5:City .\n",
      "    ?city lab5:isCapitalOf ?country .\n",
      "    ?city lab5:population ?pop .\n",
      "    FILTER (xsd:integer(?pop) > 5000000)\n",
      "}\n",
      "ORDER BY DESC(?pop)\n",
      "\n",
      "Results: \n",
      "'http://www.semanticweb.org/ernesto/in3067-inm713/lab5/japan, http://www.semanticweb.org/ernesto/in3067-inm713/lab5/tokyo, 37977000, '\n",
      "'http://www.semanticweb.org/ernesto/in3067-inm713/lab5/indonesia, http://www.semanticweb.org/ernesto/in3067-inm713/lab5/jakarta, 34540000, '\n",
      "'http://www.semanticweb.org/ernesto/in3067-inm713/lab5/philippines, http://www.semanticweb.org/ernesto/in3067-inm713/lab5/manila, 23088000, '\n",
      "'http://www.semanticweb.org/ernesto/in3067-inm713/lab5/korea,_south, http://www.semanticweb.org/ernesto/in3067-inm713/lab5/seoul, 21794000, '\n",
      "'http://www.semanticweb.org/ernesto/in3067-inm713/lab5/mexico, http://www.semanticweb.org/ernesto/in3067-inm713/lab5/mexico_city, 20996000, '\n",
      "'http://www.semanticweb.org/ernesto/in3067-inm713/lab5/china, http://www.semanticweb.org/ernesto/in3067-inm713/lab5/beijing, 19433000, '\n",
      "'http://www.semanticweb.org/ernesto/in3067-inm713/lab5/egypt, http://www.semanticweb.org/ernesto/in3067-inm713/lab5/cairo, 19372000, '\n",
      "'http://www.semanticweb.org/ernesto/in3067-inm713/lab5/russia, http://www.semanticweb.org/ernesto/in3067-inm713/lab5/moscow, 17125000, '\n",
      "'http://www.semanticweb.org/ernesto/in3067-inm713/lab5/thailand, http://www.semanticweb.org/ernesto/in3067-inm713/lab5/bangkok, 17066000, '\n",
      "'http://www.semanticweb.org/ernesto/in3067-inm713/lab5/argentina, http://www.semanticweb.org/ernesto/in3067-inm713/lab5/buenos_aires, 16157000, '\n",
      "'http://www.semanticweb.org/ernesto/in3067-inm713/lab5/bangladesh, http://www.semanticweb.org/ernesto/in3067-inm713/lab5/dhaka, 15443000, '\n",
      "'http://www.semanticweb.org/ernesto/in3067-inm713/lab5/iran, http://www.semanticweb.org/ernesto/in3067-inm713/lab5/tehran, 13633000, '\n",
      "'http://www.semanticweb.org/ernesto/in3067-inm713/lab5/congo_(kinshasa), http://www.semanticweb.org/ernesto/in3067-inm713/lab5/kinshasa, 13528000, '\n",
      "'http://www.semanticweb.org/ernesto/in3067-inm713/lab5/france, http://www.semanticweb.org/ernesto/in3067-inm713/lab5/paris, 11020000, '\n",
      "'http://www.semanticweb.org/ernesto/in3067-inm713/lab5/united_kingdom, http://www.semanticweb.org/ernesto/in3067-inm713/lab5/london, 10979000, '\n",
      "'http://www.semanticweb.org/ernesto/in3067-inm713/lab5/peru, http://www.semanticweb.org/ernesto/in3067-inm713/lab5/lima, 9848000, '\n",
      "'http://www.semanticweb.org/ernesto/in3067-inm713/lab5/colombia, http://www.semanticweb.org/ernesto/in3067-inm713/lab5/bogota, 9464000, '\n",
      "'http://www.semanticweb.org/ernesto/in3067-inm713/lab5/angola, http://www.semanticweb.org/ernesto/in3067-inm713/lab5/luanda, 8417000, '\n",
      "'http://www.semanticweb.org/ernesto/in3067-inm713/lab5/malaysia, http://www.semanticweb.org/ernesto/in3067-inm713/lab5/kuala_lumpur, 8285000, '\n",
      "'http://www.semanticweb.org/ernesto/in3067-inm713/lab5/vietnam, http://www.semanticweb.org/ernesto/in3067-inm713/lab5/hanoi, 7785000, '\n",
      "'http://www.semanticweb.org/ernesto/in3067-inm713/lab5/sudan, http://www.semanticweb.org/ernesto/in3067-inm713/lab5/khartoum, 7282000, '\n",
      "'http://www.semanticweb.org/ernesto/in3067-inm713/lab5/chile, http://www.semanticweb.org/ernesto/in3067-inm713/lab5/santiago, 7007000, '\n",
      "'http://www.semanticweb.org/ernesto/in3067-inm713/lab5/saudi_arabia, http://www.semanticweb.org/ernesto/in3067-inm713/lab5/riyadh, 6881000, '\n",
      "'http://www.semanticweb.org/ernesto/in3067-inm713/lab5/tanzania, http://www.semanticweb.org/ernesto/in3067-inm713/lab5/dar_es_salaam, 6698000, '\n"
     ]
    }
   ],
   "source": [
    "#World-cities\n",
    "dataset = \"./data/worldcities-free-100-task2.ttl\"\n",
    "format_data = \"ttl\"\n",
    "ontology_file = \"./data/ontology_lab5.ttl\"\n",
    "format_onto = \"ttl\"\n",
    "query = \"./data/query_world-cities.txt\"\n",
    "queryLocalGraph(ontology_file, format_onto, dataset, format_data, query)"
   ]
  },
  {
   "cell_type": "markdown",
   "id": "207c3cbf",
   "metadata": {},
   "source": [
    "### Nobel prize dataset"
   ]
  },
  {
   "cell_type": "code",
   "execution_count": 11,
   "id": "e3bb5018",
   "metadata": {},
   "outputs": [
    {
     "name": "stdout",
     "output_type": "stream",
     "text": [
      "Loaded '85892' triples.\n",
      "Performing reasoning (may take some time)...\n",
      "After reasoning: '282253' triples.\n",
      "\n",
      "Query: \n",
      "PREFIX rdf: <http://www.w3.org/1999/02/22-rdf-syntax-ns#>\n",
      "PREFIX dbo: <http://dbpedia.org/ontology/>\n",
      "PREFIX rdfs: <http://www.w3.org/2000/01/rdf-schema#>\n",
      "PREFIX foaf: <http://xmlns.com/foaf/0.1/>\n",
      "PREFIX np: <http://data.nobelprize.org/terms/>\n",
      "SELECT DISTINCT ?name WHERE {\n",
      "\t?laur rdf:type np:Laureate . \n",
      "\t?laur rdfs:label ?name .\n",
      "\t?laur foaf:gender \"female\" .\n",
      "}\n",
      "\n",
      "Results: \n",
      "'Barbara McClintock, '\n",
      "'Baroness Bertha Sophie Felicita von Suttner, née Countess Kinsky von Chinic und Tettau, '\n",
      "'Emily Greene Balch, '\n",
      "'Pearl Buck, '\n",
      "'Marie Curie, née Sklodowska, '\n",
      "'Selma Ottilia Lovisa Lagerlöf, '\n",
      "'Nadine Gordimer, '\n",
      "'Nelly Sachs, '\n",
      "'Malala Yousafzai, '\n",
      "'Carol W. Greider, '\n",
      "'Christiane Nüsslein-Volhard, '\n",
      "'Françoise Barré-Sinoussi, '\n",
      "'Grazia Deledda, '\n",
      "'Gertrude B. Elion, '\n",
      "'Dorothy Crowfoot Hodgkin, '\n",
      "'Gerty Theresa Cori, née Radnitz, '\n",
      "'May-Britt Moser, '\n",
      "'Mairead Corrigan, '\n",
      "'Linda B. Buck, '\n",
      "'Doris Lessing, '\n",
      "'Elizabeth H. Blackburn, '\n",
      "'Gabriela Mistral, '\n",
      "'Alva Myrdal, '\n",
      "'Toni Morrison, '\n",
      "'Rosalyn Yalow, '\n",
      "'Sigrid Undset, '\n",
      "'Leymah Gbowee, '\n",
      "'Maria Goeppert Mayer, '\n",
      "'Youyou Tu, '\n",
      "'Elinor Ostrom, '\n",
      "'Ada E. Yonath, '\n",
      "'Elfriede Jelinek, '\n",
      "'Rita Levi-Montalcini, '\n",
      "'Mother Teresa , '\n",
      "'Betty Williams, '\n",
      "'Alice Munro, '\n",
      "'Aung San Suu Kyi , '\n",
      "'Wangari Muta Maathai, '\n",
      "'Tawakkol Karman, '\n",
      "'Irène Joliot-Curie, '\n",
      "'Rigoberta Menchú Tum, '\n",
      "'Svetlana Alexievich, '\n",
      "'Jody Williams, '\n",
      "'Jane Addams, '\n",
      "'Herta Müller, '\n",
      "'Shirin Ebadi, '\n",
      "'Ellen Johnson Sirleaf, '\n",
      "'Wislawa Szymborska, '\n"
     ]
    }
   ],
   "source": [
    "#Nobel prize\n",
    "#Reasoning takes a bit\n",
    "ontology_file = \"../files/nobel-prize-ontology.rdf\"\n",
    "format_onto = \"xml\"\n",
    "dataset= \"../files/nobelprize_kg.nt\"\n",
    "format_data = \"nt\"\n",
    "query = \"./data/query_nobel-prize.txt\"    \n",
    "#query = \"./data/query_nobel-prize-service.txt\";\n",
    "\n",
    "queryLocalGraph(ontology_file, format_onto, dataset, format_data, query)\n"
   ]
  },
  {
   "cell_type": "markdown",
   "id": "3917efbb",
   "metadata": {},
   "source": [
    "### SPARQL Update"
   ]
  },
  {
   "cell_type": "code",
   "execution_count": 12,
   "id": "503a5d4d",
   "metadata": {},
   "outputs": [
    {
     "name": "stdout",
     "output_type": "stream",
     "text": [
      "Loaded '73' triples.\n"
     ]
    }
   ],
   "source": [
    "dataset=\"./data/playground.ttl\"\n",
    "format_data = \"ttl\"\n",
    "    \n",
    "g = Graph()\n",
    "g.parse(dataset, format=format_data)\n",
    "\n",
    "print(\"Loaded '\" + str(len(g)) + \"' triples.\")\n",
    "  "
   ]
  },
  {
   "cell_type": "markdown",
   "id": "1324cc32",
   "metadata": {},
   "source": [
    "#### Insert triples"
   ]
  },
  {
   "cell_type": "code",
   "execution_count": 13,
   "id": "c38f1595",
   "metadata": {},
   "outputs": [
    {
     "name": "stdout",
     "output_type": "stream",
     "text": [
      "Triples after insert update: '77' triples.\n"
     ]
    }
   ],
   "source": [
    "## Insert triples\n",
    "query_insert = \"\"\"\n",
    "       PREFIX ttr: <http://example.org/tuto/resource#>\\n\n",
    "       PREFIX tto: <http://example.org/tuto/ontology#>\\n\n",
    "       PREFIX dbo: <http://dbpedia.org/ontology/>\\n\n",
    "       PREFIX dbp: <http://dbpedia.org/property/>\\n\n",
    "       insert data {\n",
    "           ttr:Bella dbp:name 'Bella' .\\n\n",
    "           ttr:Bella a tto:Cat .\\n\n",
    "           ttr:Ernesto a dbo:Person .\\n\n",
    "           ttr:Ernesto ttr:pet ttr:Bella .\\n                \n",
    "        }\"\"\"\n",
    "qres = g.update(query_insert)\n",
    "print(\"Triples after insert update: '\" + str(len(g)) + \"' triples.\")"
   ]
  },
  {
   "cell_type": "markdown",
   "id": "f6fea1cf",
   "metadata": {},
   "source": [
    "#### Remove triples"
   ]
  },
  {
   "cell_type": "code",
   "execution_count": 14,
   "id": "3e73848a",
   "metadata": {},
   "outputs": [
    {
     "name": "stdout",
     "output_type": "stream",
     "text": [
      "Triples after delete update: '73' triples.\n"
     ]
    }
   ],
   "source": [
    "##Delete triples\n",
    "query_delete = \"\"\"\n",
    "       PREFIX ttr: <http://example.org/tuto/resource#>\\n\n",
    "       PREFIX tto: <http://example.org/tuto/ontology#>\\n\n",
    "       PREFIX dbo: <http://dbpedia.org/ontology/>\\n\n",
    "       PREFIX dbp: <http://dbpedia.org/property/>\\n\n",
    "       delete data {\n",
    "           ttr:Bella dbp:name 'Bella' .\\n\n",
    "           ttr:Bella a tto:Cat .\\n\n",
    "           ttr:Ernesto a dbo:Person .\\n\n",
    "           ttr:Ernesto ttr:pet ttr:Bella .\\n                \n",
    "        }\"\"\"\n",
    "qres = g.update(query_delete)\n",
    "print(\"Triples after delete update: '\" + str(len(g)) + \"' triples.\")"
   ]
  },
  {
   "cell_type": "markdown",
   "id": "d3609f7c",
   "metadata": {},
   "source": [
    "#### Update labels"
   ]
  },
  {
   "cell_type": "code",
   "execution_count": 15,
   "id": "fb80b6ee",
   "metadata": {},
   "outputs": [
    {
     "name": "stdout",
     "output_type": "stream",
     "text": [
      "Triples after update labels: '73' triples.\n"
     ]
    }
   ],
   "source": [
    "##Update labels\n",
    "query_update_labels = \"\"\"\n",
    "       PREFIX ttr: <http://example.org/tuto/resource#>\\n\n",
    "       PREFIX tto: <http://example.org/tuto/ontology#>\\n\n",
    "       PREFIX dbo: <http://dbpedia.org/ontology/>\\n\n",
    "       PREFIX dbp: <http://dbpedia.org/property/>\\n\n",
    "       PREFIX rdfs: <http://www.w3.org/2000/01/rdf-schema#>\\n\n",
    "         delete { ?x dbp:name ?y }\\n\n",
    "         insert { ?x rdfs:label ?y }\\n\n",
    "         where { ?x dbp:name ?y }                \n",
    "    \"\"\"\n",
    "qres = g.update(query_update_labels)\n",
    "print(\"Triples after update labels: '\" + str(len(g)) + \"' triples.\")\n",
    "        \n",
    "    \n",
    "#Save new KG\n",
    "file_output = dataset.replace(\".ttl\", \"-update-labels.ttl\")\n",
    "g.serialize(destination=file_output, format='ttl')"
   ]
  },
  {
   "cell_type": "code",
   "execution_count": null,
   "id": "2b8e1ebb",
   "metadata": {},
   "outputs": [],
   "source": []
  }
 ],
 "metadata": {
  "kernelspec": {
   "display_name": "Python 3 (ipykernel)",
   "language": "python",
   "name": "python3"
  },
  "language_info": {
   "codemirror_mode": {
    "name": "ipython",
    "version": 3
   },
   "file_extension": ".py",
   "mimetype": "text/x-python",
   "name": "python",
   "nbconvert_exporter": "python",
   "pygments_lexer": "ipython3",
   "version": "3.8.10"
  }
 },
 "nbformat": 4,
 "nbformat_minor": 5
}
