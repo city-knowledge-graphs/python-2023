{
 "cells": [
  {
   "cell_type": "markdown",
   "id": "c3fd1118",
   "metadata": {},
   "source": [
    "### Requirements/Libraries\n"
   ]
  },
  {
   "cell_type": "code",
   "execution_count": 1,
   "id": "3dad3931",
   "metadata": {},
   "outputs": [],
   "source": [
    "from rdflib import Graph\n",
    "from rdflib import URIRef, BNode, Literal\n",
    "from rdflib import Namespace\n",
    "from rdflib.namespace import OWL, RDF, RDFS, FOAF, XSD"
   ]
  },
  {
   "cell_type": "markdown",
   "id": "85d2e8ff",
   "metadata": {},
   "source": [
    "### Creates empty graph and sets prefixes"
   ]
  },
  {
   "cell_type": "code",
   "execution_count": 2,
   "id": "637365cf",
   "metadata": {},
   "outputs": [],
   "source": [
    "#Empty graph\n",
    "g = Graph()\n",
    "    \n",
    "#Special namspaces to create entities\n",
    "city = Namespace(\"http://www.example.org/university/london/city#\")\n",
    "dbo = Namespace(\"http://dbpedia.org/ontology/\")\n",
    "dbp = Namespace(\"http://dbpedia.org/property/\")\n",
    "dbr = Namespace(\"http://dbpedia.org/resource/\")\n",
    "#These lines are equivalent:  \n",
    "#URIRef(\"http://www.example.org/university/london/city#ernesto\")\n",
    "#city.ernesto\n",
    "       \n",
    "#Prefixes\n",
    "g.bind(\"foaf\", FOAF) #FOAF is given as defaulty namespace\n",
    "g.bind(\"city\", city) #city is a newly created namespace\n",
    "g.bind(\"dbo\", dbo) #dbpo is a newly created namespace\n",
    "g.bind(\"dbp\", dbp) #dbpo is a newly created namespace\n",
    "g.bind(\"dbr\", dbr) #dbpo is a newly created namespace "
   ]
  },
  {
   "cell_type": "markdown",
   "id": "74a5c70e",
   "metadata": {},
   "source": [
    "### Define literals, blank nodes and additional entities"
   ]
  },
  {
   "cell_type": "code",
   "execution_count": 4,
   "id": "8a2d5e01",
   "metadata": {},
   "outputs": [],
   "source": [
    "bnode1 = BNode()  # a GUID is generated\n",
    "bnode2 = BNode()\n",
    "\n",
    "#We define literals\n",
    "family_name = Literal('Jiménez-Ruiz', datatype=XSD.string)  # lang=\"en\" for language tags\n",
    "name = Literal('Ernesto', datatype=XSD.string)\n",
    "year = Literal('2021', datatype=XSD.gYear)  # lang=\"en\" for language tags\n",
    "date = Literal('2019-09-23T00:00:00', datatype=XSD.Date)\n",
    "\n",
    "#The \",\" gives problems otherwise if added as dbr.City,_University_of_London\n",
    "city_university = URIRef('http://dbpedia.org/resource/City,_University_of_London')"
   ]
  },
  {
   "cell_type": "markdown",
   "id": "e5fa6240",
   "metadata": {},
   "source": [
    "### Add triples to graph"
   ]
  },
  {
   "cell_type": "code",
   "execution_count": 5,
   "id": "dba11676",
   "metadata": {},
   "outputs": [],
   "source": [
    "g.add((city.inm713, RDF.type, city.Module))\n",
    "g.add((city.ernesto, RDF.type, FOAF.Person))\n",
    "    \n",
    "g.add((city.ernesto, FOAF.familyName, family_name))\n",
    "g.add((city.ernesto, FOAF.givenName, name))\n",
    "    \n",
    "g.add((city.ernesto, city.speaks, dbr.Spanish_language))\n",
    "g.add((city.ernesto, city.speaks, dbr.Italian_language))\n",
    "g.add((city.ernesto, city.speaks, dbr.English_language))\n",
    "\n",
    "g.add((city.ernesto, dbo.birthPlace, dbr.Castellón_de_la_Plana))\n",
    "g.add((city.ernesto, dbo.nationality, dbr.Spain))"
   ]
  },
  {
   "cell_type": "markdown",
   "id": "1af85a95",
   "metadata": {},
   "source": [
    "### Reification to annotate a triple"
   ]
  },
  {
   "cell_type": "code",
   "execution_count": 6,
   "id": "c6eb4155",
   "metadata": {},
   "outputs": [],
   "source": [
    "#Triple to be annotated via reification\n",
    "g.add((city.ernesto, city.teaches, city.inm713))\n",
    "#Reification\n",
    "g.add((bnode1, RDF.type, RDF.Statement ))\n",
    "g.add((bnode1, RDF.subject, city.ernesto ))\n",
    "g.add((bnode1, RDF.predicate, city.teaches ))\n",
    "g.add((bnode1, RDF.object, city.inm713 ))\n",
    "g.add((bnode1, dbo.year, year ))\n",
    "    \n",
    "#Triple to be annotated via reification\n",
    "g.add((city.ernesto, dbp.employer, city_university ))\n",
    "#Reification\n",
    "g.add((bnode2, RDF.type, RDF.Statement ))\n",
    "g.add((bnode2, RDF.subject, city.ernesto ))\n",
    "g.add((bnode2, RDF.predicate, dbp.employer ))\n",
    "g.add((bnode2, RDF.object, city_university ))\n",
    "g.add((bnode2, dbo.startDate, date ))\n"
   ]
  },
  {
   "cell_type": "markdown",
   "id": "59971ad9",
   "metadata": {},
   "source": [
    "### Save graph"
   ]
  },
  {
   "cell_type": "code",
   "execution_count": 8,
   "id": "96360958",
   "metadata": {},
   "outputs": [
    {
     "name": "stdout",
     "output_type": "stream",
     "text": [
      "Saving graph to 'Solution_Task3.4_rdflib.ttl':\n"
     ]
    }
   ],
   "source": [
    "print(\"Saving graph to 'Solution_Task3.4_rdflib.ttl':\")\n",
    "\n",
    "#print(g.serialize(format=\"turtle\").decode(\"utf-8\"))    \n",
    "g.serialize(destination='Solution_Task3.4_rdflib.ttl', format='ttl')"
   ]
  },
  {
   "cell_type": "code",
   "execution_count": null,
   "id": "5421721c",
   "metadata": {},
   "outputs": [],
   "source": []
  }
 ],
 "metadata": {
  "kernelspec": {
   "display_name": "Python 3 (ipykernel)",
   "language": "python",
   "name": "python3"
  },
  "language_info": {
   "codemirror_mode": {
    "name": "ipython",
    "version": 3
   },
   "file_extension": ".py",
   "mimetype": "text/x-python",
   "name": "python",
   "nbconvert_exporter": "python",
   "pygments_lexer": "ipython3",
   "version": "3.8.10"
  }
 },
 "nbformat": 4,
 "nbformat_minor": 5
}
