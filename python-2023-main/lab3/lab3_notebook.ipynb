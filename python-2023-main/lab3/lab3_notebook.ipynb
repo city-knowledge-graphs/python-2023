{
 "cells": [
  {
   "cell_type": "markdown",
   "id": "c3fd1118",
   "metadata": {},
   "source": [
    "### Requirements/Libraries\n"
   ]
  },
  {
   "cell_type": "code",
   "execution_count": 1,
   "id": "3dad3931",
   "metadata": {},
   "outputs": [],
   "source": [
    "from rdflib import Graph\n",
    "from rdflib import URIRef, BNode, Literal\n",
    "from rdflib import Namespace\n",
    "from rdflib.namespace import OWL, RDF, RDFS, FOAF, XSD\n",
    "import csv\n",
    "import pandas as pd"
   ]
  },
  {
   "cell_type": "markdown",
   "id": "af895154",
   "metadata": {},
   "source": [
    "### Loads a graph in a format and stores in a different format"
   ]
  },
  {
   "cell_type": "code",
   "execution_count": 2,
   "id": "1d8f2e4d",
   "metadata": {},
   "outputs": [
    {
     "name": "stdout",
     "output_type": "stream",
     "text": [
      "The graph contains '20' triples.\n",
      "Saving graph to 'beatles.rdf'\n"
     ]
    }
   ],
   "source": [
    "g = Graph()\n",
    "g.parse(\"./data/beatles.ttl\", format=\"ttl\")\n",
    "\n",
    "print(\"The graph contains '\" + str(len(g)) + \"' triples.\")\n",
    "    \n",
    "#for s, p, o in g:\n",
    "#    print((s.n3(), p.n3(), o.n3()))\n",
    "    \n",
    "print(\"Saving graph to 'beatles.rdf'\")\n",
    "g.serialize(destination='beatles.rdf', format='xml')"
   ]
  },
  {
   "cell_type": "markdown",
   "id": "85d2e8ff",
   "metadata": {},
   "source": [
    "### Creates triples"
   ]
  },
  {
   "cell_type": "code",
   "execution_count": 3,
   "id": "fa537163",
   "metadata": {},
   "outputs": [
    {
     "name": "stdout",
     "output_type": "stream",
     "text": [
      "Saving graph to 'lab3_example_rdflib.ttl':\n",
      "@prefix city: <http://www.example.org/university/london/city#> .\n",
      "@prefix dbpo: <https://dbpedia.org/ontology/> .\n",
      "@prefix foaf: <http://xmlns.com/foaf/0.1/> .\n",
      "@prefix rdf: <http://www.w3.org/1999/02/22-rdf-syntax-ns#> .\n",
      "@prefix xsd: <http://www.w3.org/2001/XMLSchema#> .\n",
      "\n",
      "city:ernesto a foaf:Person ;\n",
      "    city:teaches city:inm713 ;\n",
      "    foaf:name \"Ernesto Jimenez-Ruiz\"^^xsd:string .\n",
      "\n",
      "city:inm713 a city:Module .\n",
      "\n",
      "[] a rdf:Statement ;\n",
      "    rdf:object city:inm713 ;\n",
      "    rdf:predicate city:teaches ;\n",
      "    rdf:subject city:ernesto ;\n",
      "    dbpo:year \"2021-01-01\"^^xsd:gYear .\n",
      "\n",
      "\n"
     ]
    }
   ],
   "source": [
    "#Empty graph\n",
    "g = Graph()\n",
    "\n",
    "#Special namspaces to create  \n",
    "city = Namespace(\"http://www.example.org/university/london/city#\")\n",
    "dbpo = Namespace(\"https://dbpedia.org/ontology/\")\n",
    "   \n",
    "#Prefixes\n",
    "g.bind(\"foaf\", FOAF) #FOAF is given as defaulty namespace\n",
    "g.bind(\"city\", city) #city is a newly created namespace\n",
    "g.bind(\"dbpo\", dbpo) #dbpo is a newly created namespace \n",
    "\n",
    "#These lines are equivalent:\n",
    "#ernesto = URIRef(\"http://www.example.org/university/london/city#ernesto\")\n",
    "#city.ernesto\n",
    "\n",
    "#print(city.ernesto)\n",
    "\n",
    "bnode = BNode()  # a GUID is generated\n",
    "\n",
    "name = Literal('Ernesto Jimenez-Ruiz', datatype=XSD.string)  # lang=\"en\" for language tags\n",
    "year = Literal('2021', datatype=XSD.gYear)  # lang=\"en\" for language tags\n",
    "   \n",
    "\n",
    "g.add((city.inm713, RDF.type, city.Module))\n",
    "g.add((city.ernesto, RDF.type, FOAF.Person))\n",
    "g.add((city.ernesto, FOAF.name, name))\n",
    "g.add((city.ernesto, city.teaches, city.inm713))\n",
    "\n",
    "g.add((bnode, RDF.type, RDF.Statement ))\n",
    "g.add((bnode, RDF.subject, city.ernesto ))\n",
    "g.add((bnode, RDF.predicate, city.teaches ))\n",
    "g.add((bnode, RDF.object, city.inm713 ))\n",
    "g.add((bnode, dbpo.year, year ))\n",
    "\n",
    "\n",
    "print(\"Saving graph to 'lab3_example_rdflib.ttl':\")\n",
    "\n",
    "print(g.serialize(format=\"turtle\").decode(\"utf-8\"))\n",
    "#print(g.serialize(format=\"turtle\")\n",
    "#.decode(\"utf-8\") seems to fail for some (windows) users. Remove if giving problems.\n",
    "\n",
    "g.serialize(destination='./data/lab3_example_rdflib.ttl', format='ttl')"
   ]
  },
  {
   "cell_type": "code",
   "execution_count": 6,
   "id": "7c526e1b",
   "metadata": {},
   "outputs": [],
   "source": [
    "file=\"./data/lab3_companies_file.csv\""
   ]
  },
  {
   "cell_type": "markdown",
   "id": "a754f55b",
   "metadata": {},
   "source": [
    "### Load a CSV file with built in libary"
   ]
  },
  {
   "cell_type": "code",
   "execution_count": 7,
   "id": "c34900fe",
   "metadata": {},
   "outputs": [
    {
     "name": "stdout",
     "output_type": "stream",
     "text": [
      "['Company', 'Founding year', 'Headquarters']\n",
      "['OST', '2017', 'Oxford']\n",
      "['DeepReason.ai', '2018', 'Oxford']\n",
      "['Oxstem', '2011', 'Oxford']\n",
      "['Oxbotica', '2014', 'Oxford']\n",
      "['DeepMind', '2010', 'London']\n"
     ]
    }
   ],
   "source": [
    "with open(file) as csv_file:\n",
    "       \n",
    "    csv_reader = csv.reader(csv_file, delimiter=',', quotechar='\"', escapechar=\"\\\\\")\n",
    "    \n",
    "    #previous_key=\"\"\n",
    "      \n",
    "    for row in csv_reader:\n",
    "        print(row)"
   ]
  },
  {
   "cell_type": "markdown",
   "id": "4665a9a0",
   "metadata": {},
   "source": [
    "### Load a CSV file with Pandas"
   ]
  },
  {
   "cell_type": "code",
   "execution_count": 9,
   "id": "141db9b4",
   "metadata": {},
   "outputs": [
    {
     "name": "stdout",
     "output_type": "stream",
     "text": [
      "OST\n",
      "DeepReason.ai\n",
      "Oxstem\n",
      "Oxbotica\n",
      "DeepMind\n",
      "Pandas(Index=0, Company='OST', _2=2017, Headquarters='Oxford')\n",
      "Pandas(Index=1, Company='DeepReason.ai', _2=2018, Headquarters='Oxford')\n",
      "Pandas(Index=2, Company='Oxstem', _2=2011, Headquarters='Oxford')\n",
      "Pandas(Index=3, Company='Oxbotica', _2=2014, Headquarters='Oxford')\n",
      "Pandas(Index=4, Company='DeepMind', _2=2010, Headquarters='London')\n"
     ]
    }
   ],
   "source": [
    "data_frame = pd.read_csv(file, sep=',', quotechar='\"',escapechar=\"\\\\\")    \n",
    "   \n",
    "for cell in data_frame['Company']:\n",
    "    print(cell)\n",
    "\n",
    "for row in data_frame.itertuples(index=True, name='Pandas'):\n",
    "    print(row)"
   ]
  },
  {
   "cell_type": "code",
   "execution_count": null,
   "id": "637365cf",
   "metadata": {},
   "outputs": [],
   "source": []
  }
 ],
 "metadata": {
  "kernelspec": {
   "display_name": "Python 3 (ipykernel)",
   "language": "python",
   "name": "python3"
  },
  "language_info": {
   "codemirror_mode": {
    "name": "ipython",
    "version": 3
   },
   "file_extension": ".py",
   "mimetype": "text/x-python",
   "name": "python",
   "nbconvert_exporter": "python",
   "pygments_lexer": "ipython3",
   "version": "3.8.10"
  }
 },
 "nbformat": 4,
 "nbformat_minor": 5
}
