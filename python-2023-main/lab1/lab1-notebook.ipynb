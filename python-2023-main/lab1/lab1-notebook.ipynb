{
 "cells": [
  {
   "cell_type": "markdown",
   "id": "309df093",
   "metadata": {},
   "source": [
    "## Requirements/Libraries"
   ]
  },
  {
   "cell_type": "code",
   "execution_count": 3,
   "id": "755fb392",
   "metadata": {},
   "outputs": [
    {
     "name": "stderr",
     "output_type": "stream",
     "text": [
      "* Owlready2 * Warning: optimized Cython parser module 'owlready2_optimized' is not available, defaulting to slower Python implementation\n"
     ]
    }
   ],
   "source": [
    "import requests\n",
    "from owlready2 import *\n",
    "from rdflib import Graph\n",
    "from SPARQLWrapper import SPARQLWrapper, JSON"
   ]
  },
  {
   "cell_type": "markdown",
   "id": "93252a51",
   "metadata": {},
   "source": [
    "## Load an ontology and print 10 classes"
   ]
  },
  {
   "cell_type": "code",
   "execution_count": 5,
   "id": "91513073",
   "metadata": {},
   "outputs": [
    {
     "name": "stdout",
     "output_type": "stream",
     "text": [
      "Classes in DBpedia ontology: 1181\n",
      "\thttp://dbpedia.org/ontology/Abbey\n",
      "\thttp://dbpedia.org/ontology/Monastery\n",
      "\thttp://dbpedia.org/ontology/ReligiousBuilding\n",
      "\thttp://dbpedia.org/ontology/AcademicConference\n",
      "\thttp://dbpedia.org/ontology/SocietalEvent\n",
      "\thttp://dbpedia.org/ontology/AcademicJournal\n",
      "\thttp://dbpedia.org/ontology/PeriodicalLiterature\n",
      "\thttp://dbpedia.org/ontology/AcademicSubject\n",
      "\thttp://dbpedia.org/ontology/TopicalConcept\n",
      "\thttp://dbpedia.org/ontology/Activity\n"
     ]
    }
   ],
   "source": [
    "#Load ontology\n",
    "urionto=\"http://www.cs.ox.ac.uk/isg/ontologies/dbpedia.owl\"\n",
    "onto = get_ontology(urionto).load()\n",
    "\n",
    "print(\"Classes in DBpedia ontology: \" + str(len(list(onto.classes()))))\n",
    "\n",
    "#Print 10 classes\n",
    "i=0\n",
    "for cls in onto.classes():\n",
    "    if \"http://dbpedia.org/ontology/\" in cls.iri:\n",
    "        i=i+1\n",
    "        print(\"\\t\"+cls.iri)\n",
    "        if i==9:\n",
    "            break\n"
   ]
  },
  {
   "cell_type": "markdown",
   "id": "3f3a1114",
   "metadata": {},
   "source": [
    "## Loads and queries a local RDF Knowledge Graph"
   ]
  },
  {
   "cell_type": "code",
   "execution_count": 8,
   "id": "3b6040d4",
   "metadata": {},
   "outputs": [
    {
     "name": "stdout",
     "output_type": "stream",
     "text": [
      "\n",
      "\n",
      "../files/nobelprize_kg.nt has '85797' triples.\n",
      "Female laureates:\n",
      "Alice Munro\n",
      "Alva Myrdal\n",
      "Jody Williams\n",
      "Malala Yousafzai\n",
      "Toni Morrison\n",
      "Rosalyn Yalow\n",
      "Elizabeth H. Blackburn\n",
      "Nadine Gordimer\n",
      "Svetlana Alexievich\n",
      "Linda B. Buck\n",
      "Christiane Nüsslein-Volhard\n",
      "Marie Curie, née Sklodowska\n",
      "Baroness Bertha Sophie Felicita von Suttner, née Countess Kinsky von Chinic und Tettau\n",
      "Mairead Corrigan\n",
      "Mother Teresa \n",
      "Selma Ottilia Lovisa Lagerlöf\n",
      "Youyou Tu\n",
      "May-Britt Moser\n",
      "Carol W. Greider\n",
      "Gertrude B. Elion\n",
      "Dorothy Crowfoot Hodgkin\n",
      "Gerty Theresa Cori, née Radnitz\n",
      "Maria Goeppert Mayer\n",
      "Herta Müller\n",
      "Leymah Gbowee\n",
      "Emily Greene Balch\n",
      "Doris Lessing\n",
      "Rita Levi-Montalcini\n",
      "Irène Joliot-Curie\n",
      "Betty Williams\n",
      "Pearl Buck\n",
      "Gabriela Mistral\n",
      "Elfriede Jelinek\n",
      "Aung San Suu Kyi \n",
      "Barbara McClintock\n",
      "Jane Addams\n",
      "Wislawa Szymborska\n",
      "Nelly Sachs\n",
      "Ada E. Yonath\n",
      "Tawakkol Karman\n",
      "Elinor Ostrom\n",
      "Ellen Johnson Sirleaf\n",
      "Françoise Barré-Sinoussi\n",
      "Grazia Deledda\n",
      "Sigrid Undset\n",
      "Rigoberta Menchú Tum\n",
      "Shirin Ebadi\n",
      "Wangari Muta Maathai\n"
     ]
    }
   ],
   "source": [
    "file=\"../files/nobelprize_kg.nt\"\n",
    "g = Graph()\n",
    "g.parse(file, format=\"nt\")\n",
    "    \n",
    "print(\"\\n\\n\" + file + \" has '\" + str(len(g)) + \"' triples.\")\n",
    "\n",
    "\n",
    "#SPARQL query\n",
    "nobelprize_query = \"\"\"\n",
    "SELECT DISTINCT ?x WHERE { \n",
    "    ?laur <http://www.w3.org/1999/02/22-rdf-syntax-ns#type> <http://data.nobelprize.org/terms/Laureate> . ?laur <http://www.w3.org/2000/01/rdf-schema#label> ?x . \n",
    "    ?laur <http://xmlns.com/foaf/0.1/gender> \\\"female\\\" . \n",
    "    }\"\"\"\n",
    "\n",
    "qres = g.query(nobelprize_query)\n",
    "\n",
    "print(\"Female laureates:\")\n",
    "for row in qres:\n",
    "    print(\"%s\" % row)"
   ]
  },
  {
   "cell_type": "markdown",
   "id": "1b923acf",
   "metadata": {},
   "source": [
    "## Queries remote Knowledge Graph via its Endpoint"
   ]
  },
  {
   "cell_type": "code",
   "execution_count": 10,
   "id": "39434208",
   "metadata": {},
   "outputs": [
    {
     "name": "stdout",
     "output_type": "stream",
     "text": [
      "\n",
      "Querying DBPedia Knowledge Graph (types of Chicago Bulls)\n",
      "http://www.w3.org/2002/07/owl#Thing\n",
      "http://dbpedia.org/class/yago/WikicatBasketballClubsEstablishedIn1966\n",
      "http://dbpedia.org/class/yago/WikicatBasketballTeamsInTheUnitedStates\n",
      "http://dbpedia.org/ontology/BasketballTeam\n",
      "http://dbpedia.org/ontology/Organisation\n",
      "http://dbpedia.org/ontology/SoccerClub\n",
      "http://dbpedia.org/ontology/SportsTeam\n",
      "http://www.ontologydesignpatterns.org/ont/dul/DUL.owl#SocialPerson\n",
      "http://schema.org/Organization\n",
      "http://schema.org/SportsTeam\n",
      "http://www.wikidata.org/entity/Q12973014\n",
      "http://www.wikidata.org/entity/Q24229398\n",
      "http://www.wikidata.org/entity/Q43229\n",
      "http://www.ontologydesignpatterns.org/ont/dul/DUL.owl#Agent\n",
      "http://dbpedia.org/ontology/Agent\n",
      "http://dbpedia.org/class/yago/SocialGroup107950920\n",
      "http://dbpedia.org/class/yago/Team108208560\n",
      "http://dbpedia.org/class/yago/Unit108189659\n",
      "http://dbpedia.org/class/yago/Group100031264\n",
      "http://dbpedia.org/class/yago/Abstraction100002137\n",
      "http://dbpedia.org/class/yago/Association108049401\n",
      "http://dbpedia.org/class/yago/BasketballTeam108079852\n",
      "http://dbpedia.org/class/yago/Club108227214\n",
      "http://dbpedia.org/class/yago/Organization108008335\n",
      "http://dbpedia.org/class/yago/YagoLegalActor\n",
      "http://dbpedia.org/class/yago/YagoLegalActorGeo\n",
      "http://dbpedia.org/class/yago/YagoPermanentlyLocatedEntity\n",
      "http://dbpedia.org/class/yago/WikicatNationalBasketballAssociationTeams\n",
      "http://dbpedia.org/class/yago/WikicatSportsClubsEstablishedIn1966\n"
     ]
    }
   ],
   "source": [
    "dbpedia_endpoint = \"http://dbpedia.org/sparql\"\n",
    "dbpedia_query = \"\"\"\n",
    "SELECT DISTINCT ?x WHERE { \n",
    "<http://dbpedia.org/resource/Chicago_Bulls> <http://www.w3.org/1999/02/22-rdf-syntax-ns#type> ?x . \n",
    "}\"\"\"\n",
    "\n",
    "sparqlw = SPARQLWrapper(dbpedia_endpoint)        \n",
    "sparqlw.setReturnFormat(JSON)\n",
    "    \n",
    "sparqlw.setQuery(dbpedia_query)\n",
    "            \n",
    "results = sparqlw.query().convert()\n",
    "       \n",
    "#Prints JSON file with results\n",
    "#print(results)\n",
    "                   \n",
    "\n",
    "print(\"\\nQuerying DBPedia Knowledge Graph (types of Chicago Bulls)\")\n",
    "    \n",
    "for result in results[\"results\"][\"bindings\"]:\n",
    "    #Prints individual results \n",
    "    print(result[\"x\"][\"value\"])\n",
    "       "
   ]
  },
  {
   "cell_type": "markdown",
   "id": "ab11b927",
   "metadata": {},
   "source": [
    "## Gets pre-computed vector embedding for a KG entity"
   ]
  },
  {
   "cell_type": "code",
   "execution_count": 12,
   "id": "0596c451",
   "metadata": {},
   "outputs": [
    {
     "name": "stdout",
     "output_type": "stream",
     "text": [
      "\n",
      "Vector embedding for the KG resource 'Chicago Bulls':\n",
      "{ \"uri\": \"http://dbpedia.org/resource/Chicago_Bulls\",\n",
      "\"vector\": [0.54786927,-1.0110465,-0.65221614,-1.7149274,-0.4900069,0.44514805,1.1583616,-0.8191309,1.710372,-0.27958408,0.71517533,-0.36423573,0.042141538,-1.4991419,-1.3996633,-0.20587297,-0.24228925,-1.436353,0.36242056,0.42101297,-0.93528515,0.418564,-0.29923987,0.19572532,0.048899665,-0.35598725,-1.3005803,1.6334457,0.7351132,-0.17547123,-0.75474566,-0.01941191,-0.5863813,-0.041549683,0.044819344,0.22455654,0.029689556,0.44959202,-0.22349203,-0.36438772,0.25284997,0.30695936,-0.5363345,-0.77191913,-0.165517,0.04416807,-0.26017457,-0.13839772,0.10043189,1.0773109,0.32549188,0.18716885,0.8481589,-1.9029305,-0.5725112,-1.0487921,-0.6697942,0.6103618,-0.06841451,-0.10964679,-0.062486004,-0.8021692,0.47525364,1.642757,2.1175098,-0.17423669,0.33017576,-0.28444895,0.35963908,-0.20696105,1.2161506,1.0361831,0.054494794,1.3265601,0.7496403,-0.5080057,1.0735075,-0.28232452,-0.6702313,0.30861148,-0.67299527,-0.6854164,-1.2711705,0.05406403,0.36083198,-0.3870713,0.25592124,-0.29975381,-0.30572894,-0.5033369,-0.73485345,-0.70937026,0.03801905,-0.45237383,0.420499,-0.32804984,0.23446257,1.0894293,-0.07305327,-0.47211054,0.93814826,-0.8344486,-0.19874713,0.36051834,-0.36669448,0.13552806,0.3628069,-0.3235275,0.8416316,-0.3070413,-0.6700232,0.102465555,0.069442265,0.70166504,1.0842205,0.54881406,0.17973183,0.708572,0.3724252,-0.70189244,-0.44099665,0.8617944,0.40592018,-0.053192627,0.35627893,0.11113907,0.093468115,0.3172864,0.17580388,0.17717797,0.9762545,-0.1412842,-0.45851016,-0.55459595,0.7149007,0.26351804,0.6705859,0.51515305,0.42633104,0.5460847,-0.20918769,-0.22515514,0.7525565,-0.2594356,-0.20315896,0.20008314,0.94044507,-0.030191997,0.38946223,-0.5854244,0.7601321,-0.5279318,-0.29390717,-0.7050991,0.61565965,-1.2997593,0.09631827,-0.682936,0.42618257,0.7100432,-0.2545159,-0.5602009,0.28536233,-0.44686007,1.3792543,-0.030667327,0.47742078,-0.09971141,0.30941263,0.086615056,-0.3226186,0.5014397,-1.4662162,-0.2777469,-0.1800422,-0.5131488,1.0713878,1.163607,-0.31431693,0.30050683,0.45702693,0.09443227,0.22770165,-0.26647648,-0.14322963,0.38729528,0.3750253,0.27439797,0.17023513,-0.47486225,-0.5147025,0.2590537,-0.7677794,0.035400644,-0.1605084,0.044772472,0.007505519,-0.90175456,-0.47365463,0.44038936]}\n"
     ]
    }
   ],
   "source": [
    "print(\"\\nVector embedding for the KG resource 'Chicago Bulls':\")\n",
    "    \n",
    "#http://dbpedia.org/resource/Chicago_Bulls\n",
    "kg_entity = \"Chicago_Bulls\"\n",
    "    \n",
    "r = requests.get('http://www.kgvec2go.org/rest/get-vector/dbpedia/' + kg_entity) \n",
    "    \n",
    "print(r.text)"
   ]
  },
  {
   "cell_type": "code",
   "execution_count": null,
   "id": "c9d63e0a",
   "metadata": {},
   "outputs": [],
   "source": []
  }
 ],
 "metadata": {
  "kernelspec": {
   "display_name": "Python 3 (ipykernel)",
   "language": "python",
   "name": "python3"
  },
  "language_info": {
   "codemirror_mode": {
    "name": "ipython",
    "version": 3
   },
   "file_extension": ".py",
   "mimetype": "text/x-python",
   "name": "python",
   "nbconvert_exporter": "python",
   "pygments_lexer": "ipython3",
   "version": "3.8.10"
  }
 },
 "nbformat": 4,
 "nbformat_minor": 5
}
