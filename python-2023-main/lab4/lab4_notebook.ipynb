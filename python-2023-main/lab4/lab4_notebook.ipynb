{
 "cells": [
  {
   "cell_type": "markdown",
   "id": "864adb31",
   "metadata": {},
   "source": [
    "### Requirements/Libraries\n"
   ]
  },
  {
   "cell_type": "code",
   "execution_count": 1,
   "id": "ac6e5308",
   "metadata": {},
   "outputs": [
    {
     "name": "stderr",
     "output_type": "stream",
     "text": [
      "/home/ernesto/Documents/City_Teaching/venv_python/lab2/lib/python3.8/site-packages/rdflib_jsonld/__init__.py:9: DeprecationWarning: The rdflib-jsonld package has been integrated into rdflib as of rdflib==6.0.1.  Please remove rdflib-jsonld from your project's dependencies.\n",
      "  warnings.warn(\n"
     ]
    }
   ],
   "source": [
    "from rdflib import Graph\n",
    "from SPARQLWrapper import SPARQLWrapper, JSON"
   ]
  },
  {
   "cell_type": "markdown",
   "id": "5a27e22c",
   "metadata": {},
   "source": [
    "### Query local Playground dataset"
   ]
  },
  {
   "cell_type": "code",
   "execution_count": 2,
   "id": "e36a6103",
   "metadata": {},
   "outputs": [
    {
     "name": "stdout",
     "output_type": "stream",
     "text": [
      "Loaded '73' triples.\n",
      "Query results (Females):\n",
      "http://example.org/tuto/resource#Eve is female with name 'Eve'\n",
      "http://example.org/tuto/resource#LunaCat is female with name 'Luna'\n",
      "Query results, Females (query from file):\n",
      "http://example.org/tuto/resource#Eve is female with name 'Eve'\n",
      "http://example.org/tuto/resource#LunaCat is female with name 'Luna'\n"
     ]
    }
   ],
   "source": [
    "#Loads KG\n",
    "g = Graph()\n",
    "g.parse(\"./data/playground.ttl\", format=\"ttl\")\n",
    "\n",
    "print(\"Loaded '\" + str(len(g)) + \"' triples.\")\n",
    "\n",
    "print(\"Query results (Females):\")\n",
    "\n",
    "qres = g.query(\n",
    "\"\"\"SELECT ?thing ?name where {\n",
    "  ?thing tto:sex \"female\" .\n",
    "  ?thing dbp:name ?name .\n",
    "}\"\"\")\n",
    "\n",
    "for row in qres:\n",
    "    #Row is a list of matched RDF terms: URIs, literals or blank nodes\n",
    "    print(\"%s is female with name '%s'\" % (str(row.thing),str(row.name)))\n",
    "\n",
    "#Same but with loading a query from a file\n",
    "print(\"Query results, Females (query from file):\")\n",
    "query_file = \"./data/query.txt\"\n",
    "query = open(query_file, 'r').read()\n",
    "    \n",
    "qres = g.query(query)\n",
    "    \n",
    "for row in qres:\n",
    "    #Row is a list of matched RDF terms: URIs, literals or blank nodes\n",
    "    print(\"%s is female with name '%s'\" % (str(row.thing),str(row.name)))"
   ]
  },
  {
   "cell_type": "markdown",
   "id": "237a67da",
   "metadata": {},
   "source": [
    "### Query local Nobel Prize dataset"
   ]
  },
  {
   "cell_type": "code",
   "execution_count": 3,
   "id": "c7fa4288",
   "metadata": {},
   "outputs": [
    {
     "name": "stdout",
     "output_type": "stream",
     "text": [
      "Loaded '85797' triples.\n",
      "Female laureates (printing 10):\n",
      "'Irène Joliot-Curie'\n",
      "'Svetlana Alexievich'\n",
      "'May-Britt Moser'\n",
      "'Nelly Sachs'\n",
      "'Rosalyn Yalow'\n",
      "'Youyou Tu'\n",
      "'Jane Addams'\n",
      "'Gerty Theresa Cori, née Radnitz'\n",
      "'Shirin Ebadi'\n",
      "'Malala Yousafzai'\n"
     ]
    }
   ],
   "source": [
    "#Loads KG\n",
    "g = Graph()\n",
    "g.parse(\"../files/nobelprize_kg.nt\", format=\"nt\")\n",
    "  \n",
    "print(\"Loaded '\" + str(len(g)) + \"' triples.\")\n",
    "\n",
    "#Query with prefixes \n",
    "nobelprize_query = \"\"\"\n",
    "PREFIX nobel: <http://data.nobelprize.org/terms/>\n",
    "PREFIX foaf: <http://xmlns.com/foaf/0.1/>\n",
    "PREFIX rdfs: <http://www.w3.org/2000/01/rdf-schema#>\n",
    "PREFIX rdf: <http://www.w3.org/1999/02/22-rdf-syntax-ns#>\n",
    "SELECT DISTINCT ?name_laur WHERE { \n",
    "?laur rdf:type nobel:Laureate . \n",
    "?laur rdfs:label ?name_laur . \n",
    "?laur foaf:gender \"female\" . }\n",
    "\"\"\"\n",
    "\n",
    "qres = g.query(nobelprize_query)\n",
    "\n",
    "print(\"Female laureates (printing 10):\")\n",
    "i=0\n",
    "for row in qres:\n",
    "    #Row is a list of matched RDF terms: URIs, literals or blank nodes\n",
    "    i+=1\n",
    "    print(\"'%s'\" % (str(row.name_laur))) #Same name as in sparql query SELECT variable\n",
    "    if i==10:\n",
    "        break"
   ]
  },
  {
   "cell_type": "markdown",
   "id": "50b33b3e",
   "metadata": {},
   "source": [
    "\n",
    "### Query remote dataset via SPARQL Enpoint"
   ]
  },
  {
   "cell_type": "code",
   "execution_count": 6,
   "id": "a2cee1e5",
   "metadata": {},
   "outputs": [
    {
     "name": "stdout",
     "output_type": "stream",
     "text": [
      "Stars co-starring Johnny Depp (limit to 10):\n",
      "\n",
      "Abigail Breslin\n",
      "Adam Scott\n",
      "Aidan Quinn\n",
      "Al Pacino\n",
      "Alain Chabat\n",
      "Alan Arkin\n",
      "Albert Tsai\n",
      "Alfred Molina\n",
      "Alison Sudol\n"
     ]
    }
   ],
   "source": [
    "#Remote service\n",
    "endpoint_url = \"http://dbpedia.org/sparql\"\n",
    "sparqlw = SPARQLWrapper(endpoint_url)\n",
    "sparqlw.setReturnFormat(JSON)\n",
    "\n",
    "\n",
    "query = \"\"\"\n",
    "PREFIX foaf: <http://xmlns.com/foaf/0.1/> \n",
    "PREFIX dbo: <http://dbpedia.org/ontology/> \n",
    "SELECT DISTINCT ?x WHERE { \n",
    "?jd foaf:name \\\"Johnny Depp\\\"@en . \n",
    "?m dbo:starring ?jd .\n",
    "?m dbo:starring ?other . \n",
    "?other foaf:name ?x . \n",
    "FILTER (STR(?x)!=\\\"Johnny Depp\\\")\n",
    "} \n",
    "ORDER BY ?x\n",
    "LIMIT 10\n",
    "\"\"\"\n",
    "\n",
    "sparqlw.setQuery(query)\n",
    "\n",
    "results = sparqlw.query().convert()\n",
    "\n",
    "#Prints JSON file\n",
    "#print(results)   \n",
    "\n",
    "print(\"Stars co-starring Johnny Depp (limit to 10):\")\n",
    "i=0\n",
    "for result in results[\"results\"][\"bindings\"]:\n",
    "    i+=1\n",
    "    #Prints individual results \n",
    "    print(result[\"x\"][\"value\"])\n",
    "  "
   ]
  },
  {
   "cell_type": "code",
   "execution_count": null,
   "id": "0d5ff76f",
   "metadata": {},
   "outputs": [],
   "source": []
  }
 ],
 "metadata": {
  "kernelspec": {
   "display_name": "Python 3 (ipykernel)",
   "language": "python",
   "name": "python3"
  },
  "language_info": {
   "codemirror_mode": {
    "name": "ipython",
    "version": 3
   },
   "file_extension": ".py",
   "mimetype": "text/x-python",
   "name": "python",
   "nbconvert_exporter": "python",
   "pygments_lexer": "ipython3",
   "version": "3.8.10"
  }
 },
 "nbformat": 4,
 "nbformat_minor": 5
}
