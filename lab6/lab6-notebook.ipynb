{
 "cells": [
  {
   "cell_type": "markdown",
   "id": "66db4962",
   "metadata": {},
   "source": [
    "### Dependencies"
   ]
  },
  {
   "cell_type": "code",
   "execution_count": 1,
   "id": "98ae7b87",
   "metadata": {},
   "outputs": [
    {
     "name": "stderr",
     "output_type": "stream",
     "text": [
      "/home/ernesto/Documents/City_Teaching/venv_python/lab2/lib/python3.8/site-packages/rdflib_jsonld/__init__.py:9: DeprecationWarning: The rdflib-jsonld package has been integrated into rdflib as of rdflib==6.0.1.  Please remove rdflib-jsonld from your project's dependencies.\n",
      "  warnings.warn(\n"
     ]
    }
   ],
   "source": [
    "from rdflib import Graph\n",
    "import owlrl"
   ]
  },
  {
   "cell_type": "markdown",
   "id": "ddf23066",
   "metadata": {},
   "source": [
    "### Reasoning with RDFS Semantics"
   ]
  },
  {
   "cell_type": "code",
   "execution_count": 3,
   "id": "722cc882",
   "metadata": {},
   "outputs": [
    {
     "name": "stdout",
     "output_type": "stream",
     "text": [
      "Loaded '30' triples.\n",
      "Rules after inference: '215' triples.\n",
      "Saving extended graph\n"
     ]
    }
   ],
   "source": [
    "g1 = Graph()\n",
    "    \n",
    "g1.parse(\"data/lab6-rdfs.ttl\", format=\"ttl\")    \n",
    "    \n",
    "print(\"Loaded '\" + str(len(g1)) + \"' triples.\")\n",
    "    \n",
    "#Performs RDFS reasoning: expangs graph g1\n",
    "owlrl.DeductiveClosure(owlrl.RDFS_Semantics, axiomatic_triples=True, datatype_axioms=False).expand(g1)\n",
    "    \n",
    "print(\"Rules after inference: '\" + str(len(g1)) + \"' triples.\")\n",
    "    \n",
    "print(\"Saving extended graph\")\n",
    "g1.serialize(destination='data/lab6-rdfs-extended.ttl', format='ttl')"
   ]
  },
  {
   "cell_type": "markdown",
   "id": "ac1b9fc1",
   "metadata": {},
   "source": [
    "### Reasoning with OWL 2 RL"
   ]
  },
  {
   "cell_type": "code",
   "execution_count": 4,
   "id": "2fe76a20",
   "metadata": {},
   "outputs": [
    {
     "name": "stdout",
     "output_type": "stream",
     "text": [
      "Loaded '27' triples.\n",
      "Rules after inference: '1116' triples.\n",
      "Saving extended graph\n"
     ]
    }
   ],
   "source": [
    "g2 = Graph()\n",
    "    \n",
    "g2.parse(\"data/lab6-owl2rl.ttl\", format=\"ttl\")\n",
    "    \n",
    "print(\"Loaded '\" + str(len(g2)) + \"' triples.\")\n",
    "    \n",
    "#Performs OWL 2 RL reasoning: expangs graph g2\n",
    "owlrl.DeductiveClosure(owlrl.OWLRL_Semantics, axiomatic_triples=True, datatype_axioms=False).expand(g2)  \n",
    "    \n",
    "print(\"Rules after inference: '\" + str(len(g2)) + \"' triples.\")\n",
    "        \n",
    "print(\"Saving extended graph\")\n",
    "g2.serialize(destination='data/lab6-owl2rl-extended.ttl', format='ttl')\n",
    "    "
   ]
  },
  {
   "cell_type": "code",
   "execution_count": null,
   "id": "940567a9",
   "metadata": {},
   "outputs": [],
   "source": []
  }
 ],
 "metadata": {
  "kernelspec": {
   "display_name": "Python 3 (ipykernel)",
   "language": "python",
   "name": "python3"
  },
  "language_info": {
   "codemirror_mode": {
    "name": "ipython",
    "version": 3
   },
   "file_extension": ".py",
   "mimetype": "text/x-python",
   "name": "python",
   "nbconvert_exporter": "python",
   "pygments_lexer": "ipython3",
   "version": "3.8.10"
  }
 },
 "nbformat": 4,
 "nbformat_minor": 5
}
