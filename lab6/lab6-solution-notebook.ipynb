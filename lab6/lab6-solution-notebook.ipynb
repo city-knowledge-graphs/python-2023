{
 "cells": [
  {
   "cell_type": "markdown",
   "id": "15715675",
   "metadata": {},
   "source": [
    "### Dependencies"
   ]
  },
  {
   "cell_type": "code",
   "execution_count": 4,
   "id": "15415a09",
   "metadata": {},
   "outputs": [
    {
     "name": "stderr",
     "output_type": "stream",
     "text": [
      "/home/ernesto/Documents/City_Teaching/venv_python/lab2/lib/python3.8/site-packages/rdflib_jsonld/__init__.py:9: DeprecationWarning: The rdflib-jsonld package has been integrated into rdflib as of rdflib==6.0.1.  Please remove rdflib-jsonld from your project's dependencies.\n",
      "  warnings.warn(\n"
     ]
    }
   ],
   "source": [
    "from rdflib import Graph\n",
    "import owlrl"
   ]
  },
  {
   "cell_type": "markdown",
   "id": "2d3d8db8",
   "metadata": {},
   "source": [
    "### Method to check if a stament holds in the graph"
   ]
  },
  {
   "cell_type": "code",
   "execution_count": 5,
   "id": "73fb1b40",
   "metadata": {},
   "outputs": [],
   "source": [
    "def checkEntailment(g, triple):\n",
    "    \n",
    "    #We use an ASK query instead of a select. It could be done with SELETCT and then checking that the results are not empty \n",
    "    qres = g.query(\n",
    "    \"\"\"ASK {\"\"\" + triple + \"\"\" }\"\"\")\n",
    "\n",
    "    #Single row with one boolean vale\n",
    "    for row in qres:\n",
    "        print(\"Does '\" + triple + \"' hold? \" + str(row))"
   ]
  },
  {
   "cell_type": "markdown",
   "id": "81096e4d",
   "metadata": {},
   "source": [
    "### Reasoning with RDFS Semantics"
   ]
  },
  {
   "cell_type": "code",
   "execution_count": 6,
   "id": "a301e337",
   "metadata": {},
   "outputs": [
    {
     "name": "stdout",
     "output_type": "stream",
     "text": [
      "Loaded '30' triples.\n",
      "Rules after inference: '215' triples.\n",
      "Saving extended graph\n"
     ]
    }
   ],
   "source": [
    "g1 = Graph()\n",
    "    \n",
    "g1.parse(\"data/lab6-rdfs.ttl\", format=\"ttl\")    \n",
    "    \n",
    "print(\"Loaded '\" + str(len(g1)) + \"' triples.\")\n",
    "    \n",
    "#Performs RDFS reasoning: expangs graph g1\n",
    "owlrl.DeductiveClosure(owlrl.RDFS_Semantics, axiomatic_triples=True, datatype_axioms=False).expand(g1)\n",
    "    \n",
    "print(\"Rules after inference: '\" + str(len(g1)) + \"' triples.\")\n",
    "    \n",
    "print(\"Saving extended graph\")\n",
    "g1.serialize(destination='data/lab6-rdfs-extended.ttl', format='ttl')"
   ]
  },
  {
   "cell_type": "markdown",
   "id": "829802c1",
   "metadata": {},
   "source": [
    "### Check if statements hold in g1"
   ]
  },
  {
   "cell_type": "code",
   "execution_count": 11,
   "id": "1aa2aa14",
   "metadata": {},
   "outputs": [
    {
     "name": "stdout",
     "output_type": "stream",
     "text": [
      "Does ':Father rdfs:subClassOf :Person .' hold? True\n",
      "Does ':Woman rdfs:subClassOf :Person .' hold? True\n",
      "Does ':Juliet a :Person .' hold? True\n",
      "Does ':Ann a :Child .' hold? False\n",
      "Does ':Ann :isChildOf :Carl .' hold? False\n",
      "Does ':Ann :hasParent :Juliet .' hold? True\n",
      "Does 'rdfs:range rdf:type rdfs:Resource .' hold? True\n",
      "Does ':Mother rdfs:subClassOf :Person .' hold? True\n"
     ]
    }
   ],
   "source": [
    "triple1 = \":Father rdfs:subClassOf :Person .\" \n",
    "triple2 = \":Woman rdfs:subClassOf :Person .\"\n",
    "triple3 = \":Juliet a :Person .\"\n",
    "triple4 = \":Ann a :Child .\"\n",
    "triple5 = \":Ann :isChildOf :Carl .\"\n",
    "triple6 = \":Ann :hasParent :Juliet .\"\n",
    "triple7 = \"rdfs:range rdf:type rdfs:Resource .\"\n",
    "triple8 = \":Mother rdfs:subClassOf :Person .\"\n",
    "     \n",
    "checkEntailment(g1, triple1)\n",
    "checkEntailment(g1, triple2)\n",
    "checkEntailment(g1, triple3)\n",
    "checkEntailment(g1, triple4)\n",
    "checkEntailment(g1, triple5)\n",
    "checkEntailment(g1, triple6)\n",
    "checkEntailment(g1, triple7)\n",
    "checkEntailment(g1, triple8)    "
   ]
  },
  {
   "cell_type": "markdown",
   "id": "8a1fc0df",
   "metadata": {},
   "source": [
    "### Reasoning with OWL 2 RL"
   ]
  },
  {
   "cell_type": "code",
   "execution_count": 8,
   "id": "8819eaa0",
   "metadata": {},
   "outputs": [
    {
     "name": "stdout",
     "output_type": "stream",
     "text": [
      "Loaded '27' triples.\n",
      "Rules after inference: '1116' triples.\n",
      "Saving extended graph\n"
     ]
    }
   ],
   "source": [
    "g2 = Graph()\n",
    "    \n",
    "g2.parse(\"data/lab6-owl2rl.ttl\", format=\"ttl\")\n",
    "    \n",
    "print(\"Loaded '\" + str(len(g2)) + \"' triples.\")\n",
    "    \n",
    "#Performs OWL 2 RL reasoning: expangs graph g2\n",
    "owlrl.DeductiveClosure(owlrl.OWLRL_Semantics, axiomatic_triples=True, datatype_axioms=False).expand(g2)  \n",
    "    \n",
    "print(\"Rules after inference: '\" + str(len(g2)) + \"' triples.\")\n",
    "        \n",
    "print(\"Saving extended graph\")\n",
    "g2.serialize(destination='data/lab6-owl2rl-extended.ttl', format='ttl')\n",
    "    "
   ]
  },
  {
   "cell_type": "code",
   "execution_count": 17,
   "id": "b3bc44db",
   "metadata": {},
   "outputs": [],
   "source": [
    "### Check if statements hold in g2"
   ]
  },
  {
   "cell_type": "code",
   "execution_count": 10,
   "id": "2cd6d98f",
   "metadata": {},
   "outputs": [
    {
     "name": "stdout",
     "output_type": "stream",
     "text": [
      "Does ':Carl :hasChild :Ann .' hold? True\n",
      "Does ':Ann rdf:type :Child .' hold? False\n",
      "Does ':Juliet :hasChild :Ann .' hold? True\n"
     ]
    }
   ],
   "source": [
    "triple1 = \":Carl :hasChild :Ann .\"\n",
    "triple2 = \":Ann rdf:type :Child .\"\n",
    "triple3 = \":Juliet :hasChild :Ann .\"\n",
    "    \n",
    "checkEntailment(g2, triple1)\n",
    "checkEntailment(g2, triple2)\n",
    "checkEntailment(g2, triple3)"
   ]
  },
  {
   "cell_type": "code",
   "execution_count": null,
   "id": "aa28b88b",
   "metadata": {},
   "outputs": [],
   "source": []
  }
 ],
 "metadata": {
  "kernelspec": {
   "display_name": "Python 3 (ipykernel)",
   "language": "python",
   "name": "python3"
  },
  "language_info": {
   "codemirror_mode": {
    "name": "ipython",
    "version": 3
   },
   "file_extension": ".py",
   "mimetype": "text/x-python",
   "name": "python",
   "nbconvert_exporter": "python",
   "pygments_lexer": "ipython3",
   "version": "3.10.9"
  }
 },
 "nbformat": 4,
 "nbformat_minor": 5
}
