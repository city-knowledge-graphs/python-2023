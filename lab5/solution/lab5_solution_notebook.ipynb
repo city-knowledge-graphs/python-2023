{
 "cells": [
  {
   "cell_type": "markdown",
   "id": "2cd2d5f1",
   "metadata": {},
   "source": [
    "### Dependencies"
   ]
  },
  {
   "cell_type": "code",
   "execution_count": 2,
   "id": "b02cb05c",
   "metadata": {},
   "outputs": [
    {
     "name": "stderr",
     "output_type": "stream",
     "text": [
      "/home/ernesto/Documents/City_Teaching/venv_python/lab2/lib/python3.8/site-packages/rdflib_jsonld/__init__.py:9: DeprecationWarning: The rdflib-jsonld package has been integrated into rdflib as of rdflib==6.0.1.  Please remove rdflib-jsonld from your project's dependencies.\n",
      "  warnings.warn(\n"
     ]
    }
   ],
   "source": [
    "from lab5_solution import Lab5Solution"
   ]
  },
  {
   "cell_type": "markdown",
   "id": "9c031f9e",
   "metadata": {},
   "source": [
    "### Task Solutions"
   ]
  },
  {
   "cell_type": "code",
   "execution_count": 4,
   "id": "7ead8a18",
   "metadata": {},
   "outputs": [
    {
     "name": "stdout",
     "output_type": "stream",
     "text": [
      "Data triples from CSV: '914'.\n",
      "Triples including ontology: '1027'.\n",
      "Triples after OWL 2 RL reasoning: '3748'.\n",
      "24 capitals satisfying the query.\n"
     ]
    }
   ],
   "source": [
    "#Initialization \n",
    "#Format:\n",
    "#city    city_ascii    lat    lng    country    iso2    iso3    admin_name    capital    population\n",
    "file = \"../data/worldcities-free-100.csv\"\n",
    "output_file_name = \"worldcities-free-100\"\n",
    "\n",
    "solution = Lab5Solution(file)\n",
    "\n",
    "#Solution task 1\n",
    "task = \"task1\"\n",
    "#Solution task 1\n",
    "#task = \"task2\" # May take a few seconds\n",
    "#Instead of having several small mappings the transformation is done using a single function or mapping\n",
    "#task = \"Simple_Mapping\"\n",
    "    \n",
    "#Create RDF triples\n",
    "if task == \"task1\":\n",
    "    solution.performTask1()  #Fresh entity URIs\n",
    "elif task == \"task2\":\n",
    "    solution.performTask2()  #Reusing URIs from DBPedia\n",
    "else:\n",
    "    solution.SimpleUniqueMapping()  #Simple and unique mapping/transformation\n",
    "        \n",
    "    \n",
    "#Graph with only data\n",
    "solution.saveGraph(\"./data/\"+output_file_name+\"-\"+task+\".ttl\")\n",
    "\n",
    "    \n",
    "#OWL 2 RL reasoning\n",
    "#We will see reasoning next week. Not strictly necessary for this \n",
    "solution.performReasoning(\"../data/ontology_lab5.ttl\") ##ttl format\n",
    "\n",
    "    \n",
    "#Graph with ontology triples and entailed triples       \n",
    "solution.saveGraph(\"./data/\"+output_file_name+\"-\"+task+\"-reasoning.ttl\")\n",
    "    \n",
    "#SPARQL results into CSV\n",
    "solution.performSPARQLQuery(\"./data/\"+output_file_name+\"-\"+task+\"-query-results.csv\")\n",
    "    \n",
    "    "
   ]
  },
  {
   "cell_type": "code",
   "execution_count": null,
   "id": "9c44130e",
   "metadata": {},
   "outputs": [],
   "source": []
  }
 ],
 "metadata": {
  "kernelspec": {
   "display_name": "Python 3 (ipykernel)",
   "language": "python",
   "name": "python3"
  },
  "language_info": {
   "codemirror_mode": {
    "name": "ipython",
    "version": 3
   },
   "file_extension": ".py",
   "mimetype": "text/x-python",
   "name": "python",
   "nbconvert_exporter": "python",
   "pygments_lexer": "ipython3",
   "version": "3.8.10"
  }
 },
 "nbformat": 4,
 "nbformat_minor": 5
}
