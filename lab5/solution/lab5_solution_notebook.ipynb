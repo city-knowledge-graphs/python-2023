{
 "cells": [
  {
   "cell_type": "markdown",
   "id": "2cd2d5f1",
   "metadata": {},
   "source": [
    "### Dependencies"
   ]
  },
  {
   "cell_type": "code",
   "execution_count": 6,
   "id": "b02cb05c",
   "metadata": {},
   "outputs": [],
   "source": [
    "\n",
    "from lab5_solution import Lab5Solution"
   ]
  },
  {
   "cell_type": "markdown",
   "id": "9c031f9e",
   "metadata": {},
   "source": [
    "### Task Solutions"
   ]
  },
  {
   "cell_type": "code",
   "execution_count": 7,
   "id": "7ead8a18",
   "metadata": {},
   "outputs": [
    {
     "name": "stdout",
     "output_type": "stream",
     "text": [
      "Data triples from CSV: '914'.\n"
     ]
    },
    {
     "ename": "AttributeError",
     "evalue": "'Graph' object has no attribute 'load'",
     "output_type": "error",
     "traceback": [
      "\u001b[1;31m---------------------------------------------------------------------------\u001b[0m",
      "\u001b[1;31mAttributeError\u001b[0m                            Traceback (most recent call last)",
      "Cell \u001b[1;32mIn[7], line 31\u001b[0m\n\u001b[0;32m     26\u001b[0m solution\u001b[38;5;241m.\u001b[39msaveGraph(\u001b[38;5;124m\"\u001b[39m\u001b[38;5;124m./data/\u001b[39m\u001b[38;5;124m\"\u001b[39m\u001b[38;5;241m+\u001b[39moutput_file_name\u001b[38;5;241m+\u001b[39m\u001b[38;5;124m\"\u001b[39m\u001b[38;5;124m-\u001b[39m\u001b[38;5;124m\"\u001b[39m\u001b[38;5;241m+\u001b[39mtask\u001b[38;5;241m+\u001b[39m\u001b[38;5;124m\"\u001b[39m\u001b[38;5;124m.ttl\u001b[39m\u001b[38;5;124m\"\u001b[39m)\n\u001b[0;32m     29\u001b[0m \u001b[38;5;66;03m#OWL 2 RL reasoning\u001b[39;00m\n\u001b[0;32m     30\u001b[0m \u001b[38;5;66;03m#We will see reasoning next week. Not strictly necessary for this \u001b[39;00m\n\u001b[1;32m---> 31\u001b[0m \u001b[43msolution\u001b[49m\u001b[38;5;241;43m.\u001b[39;49m\u001b[43mperformReasoning\u001b[49m\u001b[43m(\u001b[49m\u001b[38;5;124;43m\"\u001b[39;49m\u001b[38;5;124;43m../data/ontology_lab5.ttl\u001b[39;49m\u001b[38;5;124;43m\"\u001b[39;49m\u001b[43m)\u001b[49m \u001b[38;5;66;03m##ttl format\u001b[39;00m\n\u001b[0;32m     34\u001b[0m \u001b[38;5;66;03m#Graph with ontology triples and entailed triples       \u001b[39;00m\n\u001b[0;32m     35\u001b[0m solution\u001b[38;5;241m.\u001b[39msaveGraph(\u001b[38;5;124m\"\u001b[39m\u001b[38;5;124m./data/\u001b[39m\u001b[38;5;124m\"\u001b[39m\u001b[38;5;241m+\u001b[39moutput_file_name\u001b[38;5;241m+\u001b[39m\u001b[38;5;124m\"\u001b[39m\u001b[38;5;124m-\u001b[39m\u001b[38;5;124m\"\u001b[39m\u001b[38;5;241m+\u001b[39mtask\u001b[38;5;241m+\u001b[39m\u001b[38;5;124m\"\u001b[39m\u001b[38;5;124m-reasoning.ttl\u001b[39m\u001b[38;5;124m\"\u001b[39m)\n",
      "File \u001b[1;32m~\\OneDrive - City, University of London\\Documents\\KG\\python-2023\\lab5\\solution\\lab5_solution.py:369\u001b[0m, in \u001b[0;36mLab5Solution.performReasoning\u001b[1;34m(self, ontology_file)\u001b[0m\n\u001b[0;32m    364\u001b[0m \u001b[38;5;28mprint\u001b[39m(\u001b[38;5;124m\"\u001b[39m\u001b[38;5;124mData triples from CSV: \u001b[39m\u001b[38;5;124m'\u001b[39m\u001b[38;5;124m\"\u001b[39m \u001b[38;5;241m+\u001b[39m \u001b[38;5;28mstr\u001b[39m(\u001b[38;5;28mlen\u001b[39m(\u001b[38;5;28mself\u001b[39m\u001b[38;5;241m.\u001b[39mg)) \u001b[38;5;241m+\u001b[39m \u001b[38;5;124m\"\u001b[39m\u001b[38;5;124m'\u001b[39m\u001b[38;5;124m.\u001b[39m\u001b[38;5;124m\"\u001b[39m)\n\u001b[0;32m    367\u001b[0m \u001b[38;5;66;03m#We should load the ontology first\u001b[39;00m\n\u001b[0;32m    368\u001b[0m \u001b[38;5;66;03m#print(guess_format(ontology_file))\u001b[39;00m\n\u001b[1;32m--> 369\u001b[0m \u001b[38;5;28;43mself\u001b[39;49m\u001b[38;5;241;43m.\u001b[39;49m\u001b[43mg\u001b[49m\u001b[38;5;241;43m.\u001b[39;49m\u001b[43mload\u001b[49m(ontology_file,  \u001b[38;5;28mformat\u001b[39m\u001b[38;5;241m=\u001b[39mguess_format(ontology_file)) \u001b[38;5;66;03m#e.g., format=ttl\u001b[39;00m\n\u001b[0;32m    372\u001b[0m \u001b[38;5;28mprint\u001b[39m(\u001b[38;5;124m\"\u001b[39m\u001b[38;5;124mTriples including ontology: \u001b[39m\u001b[38;5;124m'\u001b[39m\u001b[38;5;124m\"\u001b[39m \u001b[38;5;241m+\u001b[39m \u001b[38;5;28mstr\u001b[39m(\u001b[38;5;28mlen\u001b[39m(\u001b[38;5;28mself\u001b[39m\u001b[38;5;241m.\u001b[39mg)) \u001b[38;5;241m+\u001b[39m \u001b[38;5;124m\"\u001b[39m\u001b[38;5;124m'\u001b[39m\u001b[38;5;124m.\u001b[39m\u001b[38;5;124m\"\u001b[39m)\n\u001b[0;32m    375\u001b[0m \u001b[38;5;66;03m#We apply reasoning and expand the graph with new triples \u001b[39;00m\n",
      "\u001b[1;31mAttributeError\u001b[0m: 'Graph' object has no attribute 'load'"
     ]
    }
   ],
   "source": [
    "#Initialization \n",
    "#Format:\n",
    "#city    city_ascii    lat    lng    country    iso2    iso3    admin_name    capital    population\n",
    "file = \"../data/worldcities-free-100.csv\"\n",
    "output_file_name = \"worldcities-free-100\"\n",
    "\n",
    "solution = Lab5Solution(file)\n",
    "\n",
    "#Solution task 1\n",
    "task = \"task1\"\n",
    "#Solution task 1\n",
    "#task = \"task2\" # May take a few seconds\n",
    "#Instead of having several small mappings the transformation is done using a single function or mapping\n",
    "#task = \"Simple_Mapping\"\n",
    "    \n",
    "#Create RDF triples\n",
    "if task == \"task1\":\n",
    "    solution.performTask1()  #Fresh entity URIs\n",
    "elif task == \"task2\":\n",
    "    solution.performTask2()  #Reusing URIs from DBPedia\n",
    "else:\n",
    "    solution.SimpleUniqueMapping()  #Simple and unique mapping/transformation\n",
    "        \n",
    "    \n",
    "#Graph with only data\n",
    "solution.saveGraph(\"./data/\"+output_file_name+\"-\"+task+\".ttl\")\n",
    "\n",
    "    \n",
    "#OWL 2 RL reasoning\n",
    "#We will see reasoning next week. Not strictly necessary for this \n",
    "solution.performReasoning(\"../data/ontology_lab5.ttl\") ##ttl format\n",
    "\n",
    "    \n",
    "#Graph with ontology triples and entailed triples       \n",
    "solution.saveGraph(\"./data/\"+output_file_name+\"-\"+task+\"-reasoning.ttl\")\n",
    "    \n",
    "#SPARQL results into CSV\n",
    "solution.performSPARQLQuery(\"./data/\"+output_file_name+\"-\"+task+\"-query-results.csv\")\n",
    "    \n",
    "    "
   ]
  },
  {
   "cell_type": "code",
   "execution_count": null,
   "id": "9c44130e",
   "metadata": {},
   "outputs": [],
   "source": []
  }
 ],
 "metadata": {
  "kernelspec": {
   "display_name": "Python 3 (ipykernel)",
   "language": "python",
   "name": "python3"
  },
  "language_info": {
   "codemirror_mode": {
    "name": "ipython",
    "version": 3
   },
   "file_extension": ".py",
   "mimetype": "text/x-python",
   "name": "python",
   "nbconvert_exporter": "python",
   "pygments_lexer": "ipython3",
   "version": "3.10.9"
  }
 },
 "nbformat": 4,
 "nbformat_minor": 5
}
