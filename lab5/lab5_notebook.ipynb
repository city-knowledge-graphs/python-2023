{
 "cells": [
  {
   "cell_type": "markdown",
   "id": "038159e3",
   "metadata": {},
   "source": [
    "### Dependencies"
   ]
  },
  {
   "cell_type": "code",
   "execution_count": 1,
   "id": "de46015f",
   "metadata": {},
   "outputs": [
    {
     "name": "stderr",
     "output_type": "stream",
     "text": [
      "/home/ernesto/Documents/City_Teaching/venv_python/lab2/lib/python3.8/site-packages/rdflib_jsonld/__init__.py:9: DeprecationWarning: The rdflib-jsonld package has been integrated into rdflib as of rdflib==6.0.1.  Please remove rdflib-jsonld from your project's dependencies.\n",
      "  warnings.warn(\n"
     ]
    }
   ],
   "source": [
    "# Lexical similarity libraries\n",
    "import Levenshtein as lev \n",
    "from isub import isub\n",
    "# Look-ups\n",
    "from lookup import DBpediaLookup, WikidataAPI, GoogleKGLookup\n",
    "from endpoints import DBpediaEndpoint, WikidataEndpoint"
   ]
  },
  {
   "cell_type": "markdown",
   "id": "f94839fe",
   "metadata": {},
   "source": [
    "### Lexical similarity"
   ]
  },
  {
   "cell_type": "code",
   "execution_count": 2,
   "id": "3f9d230f",
   "metadata": {},
   "outputs": [
    {
     "name": "stdout",
     "output_type": "stream",
     "text": [
      "12\n",
      "0.0\n",
      "0.8928571428571429\n",
      "0.7272727272727273\n",
      "0.8578947368421053\n"
     ]
    }
   ],
   "source": [
    "print(lev.distance('Congo', 'Republic of Congo'))\n",
    "print(lev.jaro_winkler('Congo', 'Republic of Congo'))\n",
    "print(lev.jaro_winkler('Congo', 'Congo Republic'))\n",
    "print(isub('Congo', 'Republic of Congo'))\n",
    "print(isub('Congo', 'Congo Republic'))"
   ]
  },
  {
   "cell_type": "markdown",
   "id": "ad833ffa",
   "metadata": {},
   "source": [
    "### Look-up services"
   ]
  },
  {
   "cell_type": "code",
   "execution_count": 4,
   "id": "fb64574c",
   "metadata": {},
   "outputs": [
    {
     "name": "stdout",
     "output_type": "stream",
     "text": [
      "Entities from Google KG for the keyword search: United Kingdom\n",
      "kg:/m/0d1_f <id: kg:/m/0d1_f, label: Elizabeth II, description: Former Queen of the United Kingdom, types: {'http://schema.org/Person'}, source: GoogleKG>\n",
      "kg:/m/07ssc <id: kg:/m/07ssc, label: United Kingdom, description: Country in Europe, types: {'http://schema.org/AdministrativeArea', 'http://schema.org/Place', 'http://schema.org/Country'}, source: GoogleKG>\n",
      "kg:/m/0xnc3 <id: kg:/m/0xnc3, label: Charles III, description: King of the United Kingdom, types: {'http://schema.org/Person'}, source: GoogleKG>\n",
      "kg:/m/0158r2 <id: kg:/m/0158r2, label: Camilla, Queen Consort of the United Kingdom, description: Queen consort of the United Kingdom, types: {'http://schema.org/Person'}, source: GoogleKG>\n",
      "kg:/m/09lrv <id: kg:/m/09lrv, label: Princess Margaret, Countess of Snowdon, description: , types: {'http://schema.org/Person'}, source: GoogleKG>\n"
     ]
    }
   ],
   "source": [
    "query=\"United Kingdom\"\n",
    "#Max entities to be returned\n",
    "limit=5\n",
    "\n",
    "print(\"Entities from Google KG for the keyword search: \" + query)\n",
    "kg = GoogleKGLookup()\n",
    "entities = kg.getKGEntities(query, limit)\n",
    "for ent in  entities:\n",
    "    print(ent.getId(), ent)"
   ]
  },
  {
   "cell_type": "code",
   "execution_count": 5,
   "id": "234938de",
   "metadata": {},
   "outputs": [
    {
     "name": "stdout",
     "output_type": "stream",
     "text": [
      "Entities from DBPedia for the keyword search: United Kingdom\n",
      "http://dbpedia.org/resource/United_Kingdom <id: http://dbpedia.org/resource/United_Kingdom, label: <B>United</B> <B>Kingdom</B>, description: ['The <B>United</B> <B>Kingdom</B> of Great Britain and Northern Ireland, commonly known as the <B>United</B> <B>Kingdom</B> (UK'], types: {'http://dbpedia.org/ontology/PopulatedPlace', 'http://dbpedia.org/ontology/Place', 'http://dbpedia.org/ontology/Location', 'http://dbpedia.org/ontology/Country'}, source: DBpedia>\n",
      "http://dbpedia.org/resource/London <id: http://dbpedia.org/resource/London, label: London, description: ['London is the capital and largest city of England and of the <B>United</B> <B>Kingdom</B>. Standing on the River'], types: {'http://dbpedia.org/ontology/Place', 'http://dbpedia.org/ontology/PopulatedPlace', 'http://dbpedia.org/ontology/Settlement', 'http://dbpedia.org/ontology/Location', 'http://dbpedia.org/ontology/City'}, source: DBpedia>\n",
      "http://dbpedia.org/resource/United_Kingdom_of_Great_Britain_and_Ireland <id: http://dbpedia.org/resource/United_Kingdom_of_Great_Britain_and_Ireland, label: <B>United</B> <B>Kingdom</B> of Great Britain and Ireland, description: [' of Union 1800, which merged the <B>kingdoms</B> of Great Britain and Ireland. The <B>United</B> <B>Kingdom</B>, having'], types: {'http://dbpedia.org/ontology/PopulatedPlace', 'http://dbpedia.org/ontology/Place', 'http://dbpedia.org/ontology/Location', 'http://dbpedia.org/ontology/Country'}, source: DBpedia>\n",
      "http://dbpedia.org/resource/England <id: http://dbpedia.org/resource/England, label: England, description: ['England is a country that is part of the <B>United</B> <B>Kingdom</B>. It shares land borders with Wales'], types: set(), source: DBpedia>\n",
      "http://dbpedia.org/resource/Distinguished_Flying_Cross_(United_Kingdom) <id: http://dbpedia.org/resource/Distinguished_Flying_Cross_(United_Kingdom), label: Distinguished Flying Cross (<B>United</B> <B>Kingdom</B>), description: [\", and since 1993 to other ranks, of the <B>United</B> <B>Kingdom's</B> Royal Air Force and other services\"], types: set(), source: DBpedia>\n"
     ]
    }
   ],
   "source": [
    "dbpedia = DBpediaLookup()\n",
    "entities = dbpedia.getKGEntities(query, limit)\n",
    "print(\"Entities from DBPedia for the keyword search: \" + query)\n",
    "for ent in  entities:\n",
    "    print(ent.getId(), ent)"
   ]
  },
  {
   "cell_type": "code",
   "execution_count": 6,
   "id": "23eac727",
   "metadata": {},
   "outputs": [
    {
     "name": "stdout",
     "output_type": "stream",
     "text": [
      "Entities from Wikidata for the keyword search: United Kingdom\n",
      "http://www.wikidata.org/entity/Q145 <id: http://www.wikidata.org/entity/Q145, label: United Kingdom, description: country in north-west Europe, types: set(), source: Wikidata>\n",
      "http://www.wikidata.org/entity/Q174193 <id: http://www.wikidata.org/entity/Q174193, label: United Kingdom of Great Britain and Ireland, description: historical sovereign state (1801–1922), types: set(), source: Wikidata>\n",
      "http://www.wikidata.org/entity/Q21528200 <id: http://www.wikidata.org/entity/Q21528200, label: A United Kingdom, description: 2016 film by Amma Asante, types: set(), source: Wikidata>\n",
      "http://www.wikidata.org/entity/Q974636 <id: http://www.wikidata.org/entity/Q974636, label: United Kingdom in the Eurovision Song Contest 2010, description: , types: set(), source: Wikidata>\n",
      "http://www.wikidata.org/entity/Q161885 <id: http://www.wikidata.org/entity/Q161885, label: Great Britain, description: constitutional monarchy in Western Europe (1707–1800), types: set(), source: Wikidata>\n"
     ]
    }
   ],
   "source": [
    "wikidata = WikidataAPI()\n",
    "entities = wikidata.getKGEntities(query, limit, \"item\")\n",
    "print(\"Entities from Wikidata for the keyword search: \" + query)\n",
    "for ent in  entities:\n",
    "    print(ent.getId(), ent)"
   ]
  },
  {
   "cell_type": "markdown",
   "id": "9f412125",
   "metadata": {},
   "source": [
    "### SPARQL Endpoints"
   ]
  },
  {
   "cell_type": "code",
   "execution_count": 7,
   "id": "d38ef1e1",
   "metadata": {},
   "outputs": [
    {
     "name": "stdout",
     "output_type": "stream",
     "text": [
      "DBpedia\n",
      "Found 9 types.\n",
      "\t http://dbpedia.org/ontology/Place {'place'}\n",
      "\t http://www.wikidata.org/entity/Q515 set()\n",
      "\t http://dbpedia.org/ontology/PopulatedPlace {'populated place'}\n",
      "\t http://dbpedia.org/ontology/Settlement {'settlement'}\n",
      "\t http://dbpedia.org/ontology/Location set()\n",
      "\t http://www.wikidata.org/entity/Q486972 set()\n",
      "\t http://dbpedia.org/ontology/City {'city'}\n",
      "\t http://schema.org/City set()\n",
      "\t http://schema.org/Place set()\n"
     ]
    }
   ],
   "source": [
    "print(\"DBpedia\")\n",
    "ent=\"http://dbpedia.org/resource/London\"\n",
    "ep = DBpediaEndpoint()\n",
    "types = ep.getTypesForEntity(ent)\n",
    "print(\"Found \" + str(len(types)) + \" types.\")\n",
    "for type in types:\n",
    "    print(\"\\t\", type, ep.getEnglishLabelsForEntity(type))"
   ]
  },
  {
   "cell_type": "code",
   "execution_count": 8,
   "id": "a5d9fb0f",
   "metadata": {},
   "outputs": [
    {
     "name": "stdout",
     "output_type": "stream",
     "text": [
      "Wikidata\n",
      "Found 8 types.\n",
      "\t http://www.wikidata.org/entity/Q1066984 {'Financial centre', 'financial centre'}\n",
      "\t http://www.wikidata.org/entity/Q208511 {'global city'}\n",
      "\t http://www.wikidata.org/entity/Q515 {'city'}\n",
      "\t http://www.wikidata.org/entity/Q174844 {'megacity'}\n",
      "\t http://www.wikidata.org/entity/Q5119 {'capital city', 'Capital city'}\n",
      "\t http://www.wikidata.org/entity/Q51929311 {'largest city'}\n",
      "\t http://www.wikidata.org/entity/Q1637706 {'million city', 'city with millions of inhabitants'}\n",
      "\t http://www.wikidata.org/entity/Q200250 {'Metropolis', 'metropolis'}\n"
     ]
    }
   ],
   "source": [
    "print(\"Wikidata\")\n",
    "ent = \"http://www.wikidata.org/entity/Q84\"\n",
    "ep = WikidataEndpoint()\n",
    "types = ep.getTypesForEntity(ent)\n",
    "print(\"Found \" + str(len(types)) + \" types.\")\n",
    "for type in types:\n",
    "    print(\"\\t\", type, ep.getEnglishLabelsForEntity(type))"
   ]
  },
  {
   "cell_type": "code",
   "execution_count": null,
   "id": "5184a907",
   "metadata": {},
   "outputs": [],
   "source": []
  }
 ],
 "metadata": {
  "kernelspec": {
   "display_name": "Python 3 (ipykernel)",
   "language": "python",
   "name": "python3"
  },
  "language_info": {
   "codemirror_mode": {
    "name": "ipython",
    "version": 3
   },
   "file_extension": ".py",
   "mimetype": "text/x-python",
   "name": "python",
   "nbconvert_exporter": "python",
   "pygments_lexer": "ipython3",
   "version": "3.10.9"
  }
 },
 "nbformat": 4,
 "nbformat_minor": 5
}
