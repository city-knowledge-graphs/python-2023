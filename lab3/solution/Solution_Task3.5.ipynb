{
 "cells": [
  {
   "cell_type": "markdown",
   "id": "db308baa",
   "metadata": {},
   "source": [
    "### Libraries"
   ]
  },
  {
   "cell_type": "code",
   "execution_count": 1,
   "id": "39c15a12",
   "metadata": {},
   "outputs": [],
   "source": [
    "from rdflib import Graph\n",
    "from rdflib import URIRef, BNode, Literal\n",
    "from rdflib import Namespace\n",
    "from rdflib.namespace import OWL, RDF, RDFS, FOAF, XSD\n",
    "from rdflib.util import guess_format\n",
    "import pandas as pd"
   ]
  },
  {
   "cell_type": "markdown",
   "id": "9f551c1f",
   "metadata": {},
   "source": [
    "### Initializations"
   ]
  },
  {
   "cell_type": "code",
   "execution_count": 5,
   "id": "cb996ea6",
   "metadata": {},
   "outputs": [],
   "source": [
    "g = Graph()\n",
    "        \n",
    "#Example namespace for this lab\n",
    "lab3_ns_str= \"http://www.semanticweb.org/ernesto/in3067-inm713/lab3/\"\n",
    "        \n",
    "#Special namspaces class to create directly URIRefs in python.           \n",
    "lab3 = Namespace(lab3_ns_str)\n",
    "        \n",
    "#Prefixes for the serialization\n",
    "g.bind(\"lab3\", lab3)\n",
    "       \n",
    "#Load data in dataframe  \n",
    "file=\"../lab3_companies_file.csv\"\n",
    "data_frame = pd.read_csv(file, sep=',', quotechar='\"',escapechar=\"\\\\\")"
   ]
  },
  {
   "cell_type": "markdown",
   "id": "a788086c",
   "metadata": {},
   "source": [
    "This solution assumes the manual or automatic mapping of the CSV file to a KG like DBPedia\n",
    "Such that:\n",
    "- Column 0 elements are of type https://dbpedia.org/ontology/Company\n",
    "- Column 2 elements are of type https://dbpedia.org/ontology/City\n",
    "- Columns 0 and 1 are related via the predicate https://dbpedia.org/ontology/foundingYear\n",
    "- Columns 0 and 2 are related via the predicate https://dbpedia.org/ontology/headquarter\n",
    "\n",
    "The KG also contains the following entities that can be reused from the KG:\n",
    "- http://dbpedia.org/resource/Oxford\n",
    "- http://dbpedia.org/resource/London\n",
    "- http://dbpedia.org/resource/DeepMind\n",
    "- http://dbpedia.org/resource/Oxbotica               \n",
    "\n",
    "**Manual mapping**. Tip: google the entity name + dbpedia: e.g. \"Oxford DBpedia\" and get the URI from the suggested DBPedia page.\n",
    "\n",
    "**Automatic mapping**: Typically using a fuzzy search (aka look-up) over the KG.\n",
    "        \n",
    "In this lab I am just creating a very small dictionary with entities (to be used as a very basic look-up). In Week 5 we will use DBPedia look-up service that provides a fuzzy search functionality."
   ]
  },
  {
   "cell_type": "code",
   "execution_count": 7,
   "id": "79a80318",
   "metadata": {},
   "outputs": [],
   "source": [
    "stringToURI = dict()\n",
    "stringToURI[\"oxford\"]=\"http://dbpedia.org/resource/Oxford\"\n",
    "stringToURI[\"london\"]=\"http://dbpedia.org/resource/London\"\n",
    "stringToURI[\"deepmind\"]=\"http://dbpedia.org/resource/DeepMind\"\n",
    "stringToURI[\"oxbotica\"]=\"http://dbpedia.org/resource/Oxbotica\""
   ]
  },
  {
   "cell_type": "markdown",
   "id": "b5b980eb",
   "metadata": {},
   "source": [
    "### Creates DBPedia namespaces"
   ]
  },
  {
   "cell_type": "code",
   "execution_count": 9,
   "id": "0dc1a45e",
   "metadata": {},
   "outputs": [],
   "source": [
    "#DBPedia namspaces\n",
    "dbo = Namespace(\"http://dbpedia.org/ontology/\")        \n",
    "dbr = Namespace(\"http://dbpedia.org/resource/\")\n",
    "       \n",
    "#Prefixes\n",
    "g.bind(\"dbo\", dbo)        \n",
    "#Alternative: g.bind(\"dbo\", \"http://dbpedia.org/ontology/\")        \n",
    "g.bind(\"dbr\", dbr)    \n",
    "#We can the use  as entities: dbo.Company or URIRef(http://dbpedia.org/ontology/)\n"
   ]
  },
  {
   "cell_type": "markdown",
   "id": "4c386706",
   "metadata": {},
   "source": [
    "### Iterates over the data frame and creates triples"
   ]
  },
  {
   "cell_type": "code",
   "execution_count": 12,
   "id": "7e9e3c39",
   "metadata": {},
   "outputs": [],
   "source": [
    "def cellToURI(cell_name):\n",
    "    if cell_name.lower() in stringToURI:  #Is cell in dictionary\n",
    "        return stringToURI[cell_name.lower()]\n",
    "    else:\n",
    "        return lab3_ns_str + cell_name\n",
    "\n",
    "#Format csv file        \n",
    "#0         1               2\n",
    "#\"Company\",\"Founding year\",\"Headquarters\"                        \n",
    "for row in data_frame.itertuples(index=False):\n",
    "    \n",
    "    #We check if entity in our small local dictionary \n",
    "    col0_entity = URIRef(cellToURI(row[0]))\n",
    "    col2_entity = URIRef(cellToURI(row[2]))\n",
    "            \n",
    "    #Year column\n",
    "    col1_literal = Literal(row[1], datatype=XSD.gYear)\n",
    "            \n",
    "    # We create types\n",
    "    g.add((col0_entity, RDF.type, dbo.Company))\n",
    "    g.add((col2_entity, RDF.type, dbo.City))\n",
    "            \n",
    "    #Relationship between col0 and col2\n",
    "    g.add((col0_entity, dbo.headquarter, col2_entity))\n",
    "            \n",
    "    #Relationship between col0 and col1\n",
    "    g.add((col0_entity, dbo.foundingYear, col1_literal))"
   ]
  },
  {
   "cell_type": "markdown",
   "id": "89e30f56",
   "metadata": {},
   "source": [
    "### Saves graph"
   ]
  },
  {
   "cell_type": "code",
   "execution_count": 14,
   "id": "09925b9e",
   "metadata": {},
   "outputs": [
    {
     "name": "stdout",
     "output_type": "stream",
     "text": [
      "Saving graph to 'Solution_Task3.5_rdflib.ttl':\n"
     ]
    }
   ],
   "source": [
    "print(\"Saving graph to 'Solution_Task3.5_rdflib.ttl':\")\n",
    "    \n",
    "#print(g.serialize(format=\"turtle\").decode(\"utf-8\"))    \n",
    "g.serialize(destination='Solution_Task3.5_rdflib.ttl', format='ttl')"
   ]
  },
  {
   "cell_type": "code",
   "execution_count": null,
   "id": "86aabc7c",
   "metadata": {},
   "outputs": [],
   "source": []
  }
 ],
 "metadata": {
  "kernelspec": {
   "display_name": "Python 3 (ipykernel)",
   "language": "python",
   "name": "python3"
  },
  "language_info": {
   "codemirror_mode": {
    "name": "ipython",
    "version": 3
   },
   "file_extension": ".py",
   "mimetype": "text/x-python",
   "name": "python",
   "nbconvert_exporter": "python",
   "pygments_lexer": "ipython3",
   "version": "3.9.12"
  }
 },
 "nbformat": 4,
 "nbformat_minor": 5
}
