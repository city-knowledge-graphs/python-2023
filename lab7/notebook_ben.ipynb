{
 "cells": [
  {
   "cell_type": "markdown",
   "id": "8e7e5e69",
   "metadata": {},
   "source": [
    "### Dependencies"
   ]
  },
  {
   "cell_type": "code",
   "execution_count": 1,
   "id": "d03f45d5",
   "metadata": {},
   "outputs": [
    {
     "name": "stderr",
     "output_type": "stream",
     "text": [
      "* Owlready2 * Warning: optimized Cython parser module 'owlready2_optimized' is not available, defaulting to slower Python implementation\n"
     ]
    }
   ],
   "source": [
    "from owlready2 import *\n",
    "#Shoudl be imported after owlready\n",
    "from rdflib import Graph"
   ]
  },
  {
   "cell_type": "markdown",
   "id": "318ffec7",
   "metadata": {},
   "source": [
    "### Methods to get the entity labels"
   ]
  },
  {
   "cell_type": "code",
   "execution_count": 2,
   "id": "60ff3dbc",
   "metadata": {},
   "outputs": [],
   "source": [
    "def getClasses(onto):        \n",
    "    return onto.classes()\n",
    "    \n",
    "def getDataProperties(onto):        \n",
    "    return onto.data_properties()\n",
    "    \n",
    "def getObjectProperties(onto):        \n",
    "    return onto.object_properties()\n",
    "    \n",
    "def getIndividuals(onto):    \n",
    "    return onto.individuals()\n",
    "\n",
    "\n",
    "def getRDFSLabelsForEntity(entity):\n",
    "    #if hasattr(entity, \"label\"):\n",
    "    return entity.label\n",
    "\n",
    "\n",
    "def getRDFSLabelsForEntity(entity):\n",
    "    #if hasattr(entity, \"label\"):\n",
    "    return entity.label "
   ]
  },
  {
   "cell_type": "markdown",
   "id": "11b6aa6b",
   "metadata": {},
   "source": [
    "### Load ontology and print labels"
   ]
  },
  {
   "cell_type": "markdown",
   "id": "96803726",
   "metadata": {},
   "source": [
    "lexical similarity, rdflib to create triples, predicates"
   ]
  },
  {
   "cell_type": "code",
   "execution_count": 3,
   "id": "446ac114",
   "metadata": {},
   "outputs": [
    {
     "name": "stdout",
     "output_type": "stream",
     "text": [
      "Classes in Ontology: 29\n",
      "http://cmt#Meta-Reviewer\n",
      "\tMeta-Reviewer\n",
      "\t[]\n",
      "http://cmt#Reviewer\n",
      "\tReviewer\n",
      "\t[]\n",
      "http://cmt#Decision\n",
      "\tDecision\n",
      "\t[]\n",
      "http://cmt#Person\n",
      "\tPerson\n",
      "\t[]\n",
      "http://cmt#Document\n",
      "\tDocument\n",
      "\t[]\n"
     ]
    }
   ],
   "source": [
    "#Load ontology and print 5 classes with labels\n",
    "\n",
    "#Conference ontologies do not contain rdfs:label but a URI with a readable name\n",
    "urionto=\"data/cmt.owl\"\n",
    "#urionto=\"data/ekaw.owl\"\n",
    "#urionto=\"data/confOf.owl\"\n",
    "\n",
    "#human and mouse contain rdfs:label but the URI has a concept ID\n",
    "#urionto=\"data/human.owl\"\n",
    "#urionto=\"data/mouse.owl\n",
    "\n",
    "\n",
    "#Method from owlready\n",
    "onto = get_ontology(urionto).load()\n",
    "    \n",
    "print(\"Classes in Ontology: \" + str(len(list(getClasses(onto)))))\n",
    "i=0\n",
    "for cls in getClasses(onto):\n",
    "    i+=1\n",
    "    #Name of entity in URI. But in some cases it may be a \n",
    "    #code like in mouse and human anatomy ontologies                \n",
    "    print(cls.iri)\n",
    "    print(\"\\t\"+cls.name)  \n",
    "    #Labels from RDFS label\n",
    "    print(\"\\t\"+str(getRDFSLabelsForEntity(cls)))\n",
    "    \n",
    "    if i==5:\n",
    "        break"
   ]
  },
  {
   "cell_type": "code",
   "execution_count": 6,
   "id": "21b68238",
   "metadata": {},
   "outputs": [
    {
     "name": "stdout",
     "output_type": "stream",
     "text": [
      "Classes in Ontology: 73\n",
      "http://ekaw#Event\n",
      "\tEvent\n",
      "\t[]\n",
      "http://ekaw#Person\n",
      "\tPerson\n",
      "\t[]\n",
      "http://ekaw#Accepted_Paper\n",
      "\tAccepted_Paper\n",
      "\t[]\n",
      "http://ekaw#Rejected_Paper\n",
      "\tRejected_Paper\n",
      "\t[]\n",
      "http://ekaw#Evaluated_Paper\n",
      "\tEvaluated_Paper\n",
      "\t[]\n"
     ]
    }
   ],
   "source": [
    "#Load ontology and print 5 classes with labels\n",
    "\n",
    "#Conference ontologies do not contain rdfs:label but a URI with a readable name\n",
    "#urionto=\"data/cmt.owl\"\n",
    "urionto=\"data/ekaw.owl\"\n",
    "#urionto=\"data/confOf.owl\"\n",
    "\n",
    "#human and mouse contain rdfs:label but the URI has a concept ID\n",
    "#urionto=\"data/human.owl\"\n",
    "#urionto=\"data/mouse.owl\n",
    "\n",
    "\n",
    "#Method from owlready\n",
    "onto2 = get_ontology(urionto).load()\n",
    "    \n",
    "print(\"Classes in Ontology: \" + str(len(list(getClasses(onto2)))))\n",
    "i=0\n",
    "for cls in getClasses(onto2):\n",
    "    i+=1\n",
    "    #Name of entity in URI. But in some cases it may be a \n",
    "    #code like in mouse and human anatomy ontologies                \n",
    "    print(cls.iri)\n",
    "    print(\"\\t\"+cls.name)  \n",
    "    #Labels from RDFS label\n",
    "    print(\"\\t\"+str(getRDFSLabelsForEntity(cls)))\n",
    "    \n",
    "    if i==5:\n",
    "        break"
   ]
  },
  {
   "cell_type": "markdown",
   "id": "e8af5179",
   "metadata": {},
   "source": [
    "    Get URI from ... from lab4? and use directly in g.add. Then use rdflib to export to turtle. "
   ]
  },
  {
   "cell_type": "code",
   "execution_count": 19,
   "id": "39632ed8",
   "metadata": {},
   "outputs": [
    {
     "name": "stdout",
     "output_type": "stream",
     "text": [
      "cmt:Meta-Reviewer owl:equivalent ekaw:Review\n",
      "cmt:Reviewer owl:equivalent ekaw:Review\n",
      "cmt:Reviewer owl:equivalent ekaw:Possible_Reviewer\n",
      "cmt:Person owl:equivalent ekaw:Person\n",
      "cmt:Document owl:equivalent ekaw:Document\n",
      "cmt:Preference owl:equivalent ekaw:Presenter\n",
      "cmt:Conference owl:equivalent ekaw:Conference_Paper\n",
      "cmt:Conference owl:equivalent ekaw:Conference_Session\n",
      "cmt:Conference owl:equivalent ekaw:Conference_Trip\n",
      "cmt:Conference owl:equivalent ekaw:Conference_Participant\n",
      "cmt:Conference owl:equivalent ekaw:Conference\n",
      "cmt:Conference owl:equivalent ekaw:Conference_Banquet\n",
      "cmt:Conference owl:equivalent ekaw:Conference_Proceedings\n",
      "cmt:ConferenceChair owl:equivalent ekaw:Conference_Paper\n",
      "cmt:ConferenceChair owl:equivalent ekaw:Conference_Trip\n",
      "cmt:ConferenceChair owl:equivalent ekaw:Conference\n",
      "cmt:ConferenceMember owl:equivalent ekaw:Conference_Paper\n",
      "cmt:ConferenceMember owl:equivalent ekaw:Conference_Trip\n",
      "cmt:ConferenceMember owl:equivalent ekaw:Conference\n",
      "cmt:Review owl:equivalent ekaw:Review\n",
      "cmt:Paper owl:equivalent ekaw:Paper\n",
      "cmt:Paper owl:equivalent ekaw:Paper_Author\n",
      "cmt:Paper owl:equivalent ekaw:Poster_Paper\n",
      "cmt:Paper owl:equivalent ekaw:Demo_Paper\n",
      "cmt:Author owl:equivalent ekaw:Paper_Author\n",
      "cmt:PaperAbstract owl:equivalent ekaw:Paper\n",
      "cmt:PaperAbstract owl:equivalent ekaw:Abstract\n",
      "cmt:PaperFullVersion owl:equivalent ekaw:Paper\n",
      "cmt:Meta-Review owl:equivalent ekaw:Review\n"
     ]
    }
   ],
   "source": [
    "from isub import isub\n",
    "from rdflib import Namespace\n",
    "from rdflib.namespace import OWL\n",
    "a = Namespace()\n",
    "g = Graph()\n",
    "g.add()\n",
    "def lexical_similarity(onto1,onto2):\n",
    "    for cls1 in getClasses(onto1):\n",
    "        for cls2 in getClasses(onto2):\n",
    "            if isub(cls1.name,cls2.name) > 0.8:\n",
    "                g.add(cls1.uri)\n",
    "                print('cmt:'+cls1.name+' '+'owl:equivalentClass'+' ekaw:'+cls2.name)\n",
    "lexical_similarity(onto,onto2)"
   ]
  },
  {
   "cell_type": "code",
   "execution_count": 23,
   "id": "536ba24f",
   "metadata": {},
   "outputs": [
    {
     "name": "stdout",
     "output_type": "stream",
     "text": [
      "cmt:assignedByReviewer owl:equivalent ekaw:hasReviewer\n",
      "cmt:assignReviewer owl:equivalent ekaw:hasReview\n",
      "cmt:assignReviewer owl:equivalent ekaw:hasReviewer\n",
      "cmt:reviewCriteriaEnteredBy owl:equivalent ekaw:reviewWrittenBy\n",
      "cmt:writtenBy owl:equivalent ekaw:writtenBy\n",
      "cmt:writtenBy owl:equivalent ekaw:reviewWrittenBy\n"
     ]
    }
   ],
   "source": [
    "from isub import isub\n",
    "def lexical_similarity(onto1,onto2):\n",
    "    for cls1 in getObjectProperties(onto1):\n",
    "        for cls2 in getObjectProperties(onto2):\n",
    "            if isub(cls1.name,cls2.name) > 0.8:\n",
    "                print('cmt:'+cls1.name+' '+'owl:equivalentProperty'+' ekaw:'+cls2.name)\n",
    "lexical_similarity(onto,onto2)"
   ]
  },
  {
   "cell_type": "code",
   "execution_count": 24,
   "id": "4cdc6dc1",
   "metadata": {},
   "outputs": [],
   "source": [
    "from isub import isub\n",
    "def lexical_similarity(onto1,onto2):\n",
    "    for cls1 in getIndividuals(onto1):\n",
    "        for cls2 in getIndividuals(onto2):\n",
    "            if isub(cls1.name,cls2.name) > 0.8:\n",
    "                print('cmt:'+cls1.name+' '+'owl:sameAs'+' ekaw:'+cls2.name)\n",
    "lexical_similarity(onto,onto2)"
   ]
  },
  {
   "cell_type": "markdown",
   "id": "cbf63dc0",
   "metadata": {},
   "source": [
    "### Method to compute Precision and Recall"
   ]
  },
  {
   "cell_type": "code",
   "execution_count": 4,
   "id": "03e564f8",
   "metadata": {},
   "outputs": [],
   "source": [
    "def compareWithReference(reference_mappings_file, system_mappings_file):\n",
    "    ref_mappings = Graph()\n",
    "    ref_mappings.parse(reference_mappings_file, format=\"ttl\")\n",
    "    \n",
    "    system_mappings = Graph()\n",
    "    system_mappings.parse(system_mappings_file, format=\"ttl\")\n",
    "    \n",
    "    \n",
    "    #We calculate precision and recall via true positives, false positives and false negatives\n",
    "    #https://en.wikipedia.org/wiki/Precision_and_recall        \n",
    "    tp=0\n",
    "    fp=0\n",
    "    fn=0\n",
    "    \n",
    "    for t in system_mappings:\n",
    "        if t in ref_mappings:\n",
    "            tp+=1\n",
    "        else:\n",
    "            fp+=1\n",
    "\n",
    "    \n",
    "    for t in ref_mappings:\n",
    "        if not t in system_mappings:\n",
    "            fn+=1\n",
    "            \n",
    "            \n",
    "    precision = tp/(tp+fp)\n",
    "    recall = tp/(tp+fn)\n",
    "    f_score = (2*precision*recall)/(precision+recall)\n",
    "    #print(tp, tp2)\n",
    "    #print(fp)\n",
    "    #print(fn)\n",
    "    print(\"Comparing '\" + system_mappings_file + \"' with '\" + reference_mappings_file)\n",
    "    print(\"\\tPrecision: \" + str(precision))\n",
    "    print(\"\\tRecall: \" + str(recall))\n",
    "    print(\"\\tF-Score: \" + str(f_score))"
   ]
  },
  {
   "cell_type": "markdown",
   "id": "25148c75",
   "metadata": {},
   "source": [
    "### Check results"
   ]
  },
  {
   "cell_type": "code",
   "execution_count": 5,
   "id": "c6507fb8",
   "metadata": {},
   "outputs": [
    {
     "name": "stdout",
     "output_type": "stream",
     "text": [
      "Comparing 'data/anatomy-example-system-mappings.ttl' with 'data/anatomy-reference-mappings.ttl\n",
      "\tPrecision: 0.8537434706906558\n",
      "\tRecall: 0.9703166226912929\n",
      "\tF-Score: 0.9083050324174129\n"
     ]
    }
   ],
   "source": [
    "reference_mappings=\"data/anatomy-reference-mappings.ttl\"\n",
    "system_mappings=\"data/anatomy-example-system-mappings.ttl\"\n",
    "\n",
    "#P, R, and F can only be obtained if a reference alignment exists.    \n",
    "compareWithReference(reference_mappings, system_mappings)\n",
    "\n",
    "# For the lab you should compare, for example, \n",
    "# cmt-confOf-reference.ttl with the cmt-confOf-your-system.ttl you generate.\n",
    "# compareWithReference(\"cmt-confOf-reference.ttl\", \"cmt-confOf-your-system.ttl\")\n"
   ]
  },
  {
   "cell_type": "code",
   "execution_count": null,
   "id": "c5540202",
   "metadata": {},
   "outputs": [],
   "source": []
  }
 ],
 "metadata": {
  "kernelspec": {
   "display_name": "Python 3 (ipykernel)",
   "language": "python",
   "name": "python3"
  },
  "language_info": {
   "codemirror_mode": {
    "name": "ipython",
    "version": 3
   },
   "file_extension": ".py",
   "mimetype": "text/x-python",
   "name": "python",
   "nbconvert_exporter": "python",
   "pygments_lexer": "ipython3",
   "version": "3.10.9"
  }
 },
 "nbformat": 4,
 "nbformat_minor": 5
}
