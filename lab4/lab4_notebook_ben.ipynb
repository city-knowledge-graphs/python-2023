{
 "cells": [
  {
   "cell_type": "markdown",
   "id": "864adb31",
   "metadata": {},
   "source": [
    "### Requirements/Libraries\n"
   ]
  },
  {
   "cell_type": "code",
   "execution_count": 1,
   "id": "ac6e5308",
   "metadata": {},
   "outputs": [],
   "source": [
    "from rdflib import Graph\n",
    "from SPARQLWrapper import SPARQLWrapper, JSON"
   ]
  },
  {
   "cell_type": "markdown",
   "id": "5a27e22c",
   "metadata": {},
   "source": [
    "### Query local Playground dataset"
   ]
  },
  {
   "cell_type": "code",
   "execution_count": 2,
   "id": "e36a6103",
   "metadata": {},
   "outputs": [
    {
     "name": "stdout",
     "output_type": "stream",
     "text": [
      "Loaded '73' triples.\n",
      "Query results (Females):\n",
      "http://example.org/tuto/resource#Eve is female with name 'Eve'\n",
      "http://example.org/tuto/resource#LunaCat is female with name 'Luna'\n",
      "Query results, Females (query from file):\n",
      "http://example.org/tuto/resource#Eve is female with name 'Eve'\n",
      "http://example.org/tuto/resource#LunaCat is female with name 'Luna'\n"
     ]
    }
   ],
   "source": [
    "#Loads KG\n",
    "g = Graph()\n",
    "g.parse(\"./data/playground.ttl\", format=\"ttl\")\n",
    "\n",
    "print(\"Loaded '\" + str(len(g)) + \"' triples.\")\n",
    "\n",
    "print(\"Query results (Females):\")\n",
    "\n",
    "qres = g.query(\n",
    "\"\"\"SELECT ?thing ?name where {\n",
    "  ?thing tto:sex \"female\" .\n",
    "  ?thing dbp:name ?name .\n",
    "}\"\"\")\n",
    "\n",
    "for row in qres:\n",
    "    #Row is a list of matched RDF terms: URIs, literals or blank nodes\n",
    "    print(\"%s is female with name '%s'\" % (str(row.thing),str(row.name)))\n",
    "\n",
    "#Same but with loading a query from a file\n",
    "print(\"Query results, Females (query from file):\")\n",
    "query_file = \"./data/query.txt\"\n",
    "query = open(query_file, 'r').read()\n",
    "    \n",
    "qres = g.query(query)\n",
    "    \n",
    "for row in qres:\n",
    "    #Row is a list of matched RDF terms: URIs, literals or blank nodes\n",
    "    print(\"%s is female with name '%s'\" % (str(row.thing),str(row.name)))"
   ]
  },
  {
   "cell_type": "code",
   "execution_count": 3,
   "id": "cc2f7f84",
   "metadata": {},
   "outputs": [
    {
     "name": "stdout",
     "output_type": "stream",
     "text": [
      "John\n"
     ]
    }
   ],
   "source": [
    "qres = g.query(\"\"\"\n",
    "SELECT ?name where {\n",
    "ttr:Eve dbo:parent ?father .\n",
    "?father dbo:parent ?thing .\n",
    "?thing dbp:name ?name .\n",
    "}\n",
    "\"\"\")\n",
    "for row in qres:\n",
    "    #Row is a list of matched RDF terms: URIs, literals or blank nodes\n",
    "    print(str(row.name))\n"
   ]
  },
  {
   "cell_type": "code",
   "execution_count": 4,
   "id": "ff199658",
   "metadata": {},
   "outputs": [
    {
     "name": "stdout",
     "output_type": "stream",
     "text": [
      "Rexbrownmale\n"
     ]
    }
   ],
   "source": [
    "qres = g.query(\"\"\"\n",
    "SELECT ?name ?color ?sex ?name where {\n",
    "?dog a tto:Dog .\n",
    "?dog tto:color ?color .\n",
    "?dog tto:sex ?sex .\n",
    "?dog dbp:name ?name .\n",
    "}\n",
    "\"\"\")\n",
    "for row in qres:\n",
    "    #Row is a list of matched RDF terms: URIs, literals or blank nodes\n",
    "    print(str(row.name)+str(row.color)+str(row.sex))\n"
   ]
  },
  {
   "cell_type": "code",
   "execution_count": 5,
   "id": "c7f122a2",
   "metadata": {},
   "outputs": [
    {
     "name": "stdout",
     "output_type": "stream",
     "text": [
      "http://example.org/tuto/resource#LunaCathttp://example.org/tuto/resource#John\n",
      "http://example.org/tuto/resource#TomCathttp://example.org/tuto/resource#John\n",
      "http://example.org/tuto/resource#RexDoghttp://example.org/tuto/resource#William\n",
      "http://example.org/tuto/resource#SnuffMonkeyNone\n"
     ]
    }
   ],
   "source": [
    "qres = g.query(\"\"\"\n",
    "select ?pet ?owner where {\n",
    "  ?pet a / rdfs:subClassOf+ tto:Animal .\n",
    "  optional {?owner tto:pet ?pet}\n",
    "}\n",
    "\"\"\")\n",
    "for row in qres:\n",
    "    #Row is a list of matched RDF terms: URIs, literals or blank nodes\n",
    "    print(str(row.pet) + str(row.owner))"
   ]
  },
  {
   "cell_type": "code",
   "execution_count": 6,
   "id": "7f8e2265",
   "metadata": {},
   "outputs": [
    {
     "name": "stdout",
     "output_type": "stream",
     "text": [
      "http://example.org/tuto/resource#Eve female 2006-11-03\n",
      "http://example.org/tuto/resource#John male 1942-02-02\n",
      "http://example.org/tuto/resource#William male 1978-07-20\n"
     ]
    }
   ],
   "source": [
    "qres = g.query(\"\"\"\n",
    "SELECT * where {\n",
    "?person a dbo:Person .\n",
    "?person tto:sex ?sex .\n",
    "?person dbp:birthDate ?birth .\n",
    "}\n",
    "\"\"\")\n",
    "for row in qres:\n",
    "    #Row is a list of matched RDF terms: URIs, literals or blank nodes\n",
    "    print(str(row.person)+' '+ str(row.sex)+' '+str(row.birth))"
   ]
  },
  {
   "cell_type": "markdown",
   "id": "237a67da",
   "metadata": {},
   "source": [
    "### Query local Nobel Prize dataset"
   ]
  },
  {
   "cell_type": "code",
   "execution_count": 7,
   "id": "c7fa4288",
   "metadata": {},
   "outputs": [
    {
     "name": "stdout",
     "output_type": "stream",
     "text": [
      "Loaded '85797' triples.\n",
      "Female laureates (printing 10):\n",
      "'Marie Curie, née Sklodowska'\n",
      "'Maria Goeppert Mayer'\n",
      "'Irène Joliot-Curie'\n",
      "'Dorothy Crowfoot Hodgkin'\n",
      "'Gerty Theresa Cori, née Radnitz'\n",
      "'Rosalyn Yalow'\n",
      "'Barbara McClintock'\n",
      "'Rita Levi-Montalcini'\n",
      "'Gertrude B. Elion'\n",
      "'Christiane Nüsslein-Volhard'\n"
     ]
    }
   ],
   "source": [
    "#Loads KG\n",
    "g = Graph()\n",
    "g.parse(\"../files/nobelprize_kg.nt\", format=\"nt\")\n",
    "  \n",
    "print(\"Loaded '\" + str(len(g)) + \"' triples.\")\n",
    "\n",
    "#Query with prefixes \n",
    "nobelprize_query = \"\"\"\n",
    "PREFIX nobel: <http://data.nobelprize.org/terms/>\n",
    "PREFIX foaf: <http://xmlns.com/foaf/0.1/>\n",
    "PREFIX rdfs: <http://www.w3.org/2000/01/rdf-schema#>\n",
    "PREFIX rdf: <http://www.w3.org/1999/02/22-rdf-syntax-ns#>\n",
    "SELECT DISTINCT ?name_laur WHERE { \n",
    "?laur rdf:type nobel:Laureate . \n",
    "?laur rdfs:label ?name_laur . \n",
    "?laur foaf:gender \"female\" . }\n",
    "\"\"\"\n",
    "\n",
    "qres = g.query(nobelprize_query)\n",
    "\n",
    "print(\"Female laureates (printing 10):\")\n",
    "i=0\n",
    "for row in qres:\n",
    "    #Row is a list of matched RDF terms: URIs, literals or blank nodes\n",
    "    i+=1\n",
    "    print(\"'%s'\" % (str(row.name_laur))) #Same name as in sparql query SELECT variable\n",
    "    if i==10:\n",
    "        break"
   ]
  },
  {
   "cell_type": "code",
   "execution_count": 8,
   "id": "9f479c48",
   "metadata": {},
   "outputs": [
    {
     "name": "stdout",
     "output_type": "stream",
     "text": [
      "260 (printing all):\n",
      "'http://data.nobelprize.org/terms/nobelPrize''http://data.nobelprize.org/resource/nobelprize/Chemistry/1983'\n",
      "'http://dbpedia.org/ontology/deathPlace''http://data.nobelprize.org/resource/country/USA'\n",
      "'http://dbpedia.org/ontology/deathPlace''http://data.nobelprize.org/resource/city/Stanford%2C_CA'\n",
      "'http://data.nobelprize.org/terms/laureateAward''http://data.nobelprize.org/resource/laureateaward/258'\n",
      "'http://dbpedia.org/ontology/affiliation''http://data.nobelprize.org/resource/university/Stanford_University'\n",
      "'http://www.w3.org/2002/07/owl#sameAs''http://viaf.org/viaf/53044228'\n",
      "'http://www.w3.org/2002/07/owl#sameAs''http://yago-knowledge.org/resource/Henry_Taube'\n",
      "'http://www.w3.org/2002/07/owl#sameAs''http://rdf.freebase.com/ns/m.03prz6'\n",
      "'http://www.w3.org/2002/07/owl#sameAs''http://dbpedia.org/resource/Henry_Taube'\n",
      "'http://xmlns.com/foaf/0.1/familyName''Taube'\n",
      "'http://dbpedia.org/property/dateOfBirth''1915-11-30'\n",
      "'http://xmlns.com/foaf/0.1/birthday''1915-11-30'\n",
      "'http://www.w3.org/1999/02/22-rdf-syntax-ns#type''http://xmlns.com/foaf/0.1/Person'\n",
      "'http://www.w3.org/1999/02/22-rdf-syntax-ns#type''http://data.nobelprize.org/terms/Laureate'\n",
      "'http://xmlns.com/foaf/0.1/givenName''Henry'\n",
      "'http://xmlns.com/foaf/0.1/gender''male'\n",
      "'http://dbpedia.org/property/dateOfDeath''2005-11-16'\n",
      "'http://xmlns.com/foaf/0.1/name''Henry Taube'\n",
      "'http://www.w3.org/2000/01/rdf-schema#label''Henry Taube'\n",
      "'http://dbpedia.org/ontology/birthPlace''http://data.nobelprize.org/resource/country/Canada'\n",
      "'http://dbpedia.org/ontology/birthPlace''http://data.nobelprize.org/resource/city/Neudorf'\n"
     ]
    }
   ],
   "source": [
    "qres = g.query(\"\"\"SELECT DISTINCT * WHERE {\n",
    "<http://data.nobelprize.org/resource/laureate/260> ?p ?o .\n",
    "}\n",
    "\"\"\")\n",
    "\n",
    "print(\"260 (printing all):\")\n",
    "i=0\n",
    "for row in qres:\n",
    "    #Row is a list of matched RDF terms: URIs, literals or blank nodes\n",
    "    i+=1\n",
    "    print(\"'%s''%s'\" % (str(row.p),str(row.o))) #Same name as in sparql query SELECT variable\n",
    "    if i==30:\n",
    "        break"
   ]
  },
  {
   "cell_type": "code",
   "execution_count": 9,
   "id": "2f380842",
   "metadata": {},
   "outputs": [
    {
     "name": "stdout",
     "output_type": "stream",
     "text": [
      "Laureates (printing 30):\n",
      "'William Bradford Shockley'\n",
      "'Herbert C. Brown'\n",
      "'Michael Smith'\n",
      "'Patrick White'\n",
      "'Oliver Smithies'\n",
      "'Jack W. Szostak'\n",
      "'Lord Rayleigh (John William Strutt)'\n",
      "'Joseph John Thomson'\n",
      "'Sir William Henry Bragg'\n",
      "'Charles Glover Barkla'\n",
      "'Owen Willans Richardson'\n",
      "'Paul Adrien Maurice Dirac'\n",
      "'James Chadwick'\n",
      "'George Paget Thomson'\n",
      "'Sir Edward Victor Appleton'\n",
      "'Patrick Maynard Stuart Blackett'\n",
      "'Cecil Frank Powell'\n",
      "'Sir John Douglas Cockcroft'\n",
      "'Brian David Josephson'\n",
      "'Sir Martin Ryle'\n",
      "'Antony Hewish'\n",
      "'Sir Nevill Francis Mott'\n",
      "'Anthony J. Leggett'\n",
      "'Frederick Soddy'\n",
      "'Francis William Aston'\n",
      "'Arthur Harden'\n",
      "'Walter Norman Haworth'\n",
      "'Sir Robert Robinson'\n",
      "'Archer John Porter Martin'\n",
      "'Richard Laurence Millington Synge'\n"
     ]
    }
   ],
   "source": [
    "qres = g.query(\"\"\"\n",
    "PREFIX dbo: <http://dbpedia.org/ontology/>\n",
    "PREFIX nobel: <http://data.nobelprize.org/terms/>\n",
    "PREFIX nobelc: <http://data.nobelprize.org/resource/country/>\n",
    "PREFIX foaf: <http://xmlns.com/foaf/0.1/>\n",
    "PREFIX rdfs: <http://www.w3.org/2000/01/rdf-schema#>\n",
    "PREFIX rdf: <http://www.w3.org/1999/02/22-rdf-syntax-ns#>\n",
    "SELECT DISTINCT * WHERE {\n",
    "?p rdf:type nobel:Laureate .\n",
    "?p rdfs:label ?name .\n",
    "?p dbo:birthPlace nobelc:United_Kingdom .\n",
    "}\n",
    "\"\"\")\n",
    "\n",
    "print(\"Laureates (printing 30):\")\n",
    "i=0\n",
    "for row in qres:\n",
    "    #Row is a list of matched RDF terms: URIs, literals or blank nodes\n",
    "    i+=1\n",
    "    print(\"'%s'\" % (str(row.name))) #Same name as in sparql query SELECT variable\n",
    "    if i==30:\n",
    "        break"
   ]
  },
  {
   "cell_type": "code",
   "execution_count": null,
   "id": "3883acbe",
   "metadata": {},
   "outputs": [],
   "source": [
    "qres = g.query(\"\"\"\n",
    "PREFIX dbo: <http://dbpedia.org/ontology/>\n",
    "PREFIX nobel: <http://data.nobelprize.org/terms/>\n",
    "PREFIX nobelc: <http://data.nobelprize.org/resource/country/>\n",
    "PREFIX foaf: <http://xmlns.com/foaf/0.1/>\n",
    "PREFIX rdfs: <http://www.w3.org/2000/01/rdf-schema#>\n",
    "PREFIX rdf: <http://www.w3.org/1999/02/22-rdf-syntax-ns#>\n",
    "SELECT DISTINCT * WHERE {\n",
    "?p rdf:type nobel:Laureate .\n",
    "?p rdfs:label ?name .\n",
    "?p dbo:birthPlace nobelc:United_Kingdom .\n",
    "}\n",
    "\"\"\")\n",
    "\n",
    "print(\"Laureates (printing 30):\")\n",
    "i=0\n",
    "for row in qres:\n",
    "    #Row is a list of matched RDF terms: URIs, literals or blank nodes\n",
    "    i+=1\n",
    "    print(\"'%s'\" % (str(row.name))) #Same name as in sparql query SELECT variable\n",
    "    if i==30:\n",
    "        break"
   ]
  },
  {
   "cell_type": "markdown",
   "id": "50b33b3e",
   "metadata": {},
   "source": [
    "\n",
    "### Query remote dataset via SPARQL Enpoint"
   ]
  },
  {
   "cell_type": "code",
   "execution_count": 6,
   "id": "a2cee1e5",
   "metadata": {},
   "outputs": [
    {
     "name": "stdout",
     "output_type": "stream",
     "text": [
      "Stars co-starring Johnny Depp (limit to 10):\n",
      "\n",
      "Abigail Breslin\n",
      "Adam Scott\n",
      "Aidan Quinn\n",
      "Al Pacino\n",
      "Alain Chabat\n",
      "Alan Arkin\n",
      "Albert Tsai\n",
      "Alfred Molina\n",
      "Alison Sudol\n"
     ]
    }
   ],
   "source": [
    "#Remote service\n",
    "endpoint_url = \"http://dbpedia.org/sparql\"\n",
    "sparqlw = SPARQLWrapper(endpoint_url)\n",
    "sparqlw.setReturnFormat(JSON)\n",
    "\n",
    "\n",
    "query = \"\"\"\n",
    "PREFIX foaf: <http://xmlns.com/foaf/0.1/> \n",
    "PREFIX dbo: <http://dbpedia.org/ontology/> \n",
    "SELECT DISTINCT ?x WHERE { \n",
    "?jd foaf:name \\\"Johnny Depp\\\"@en . \n",
    "?m dbo:starring ?jd .\n",
    "?m dbo:starring ?other . \n",
    "?other foaf:name ?x . \n",
    "FILTER (STR(?x)!=\\\"Johnny Depp\\\")\n",
    "} \n",
    "ORDER BY ?x\n",
    "LIMIT 10\n",
    "\"\"\"\n",
    "\n",
    "sparqlw.setQuery(query)\n",
    "\n",
    "results = sparqlw.query().convert()\n",
    "\n",
    "#Prints JSON file\n",
    "#print(results)   \n",
    "\n",
    "print(\"Stars co-starring Johnny Depp (limit to 10):\")\n",
    "i=0\n",
    "for result in results[\"results\"][\"bindings\"]:\n",
    "    i+=1\n",
    "    #Prints individual results \n",
    "    print(result[\"x\"][\"value\"])\n",
    "  "
   ]
  },
  {
   "cell_type": "code",
   "execution_count": null,
   "id": "0d5ff76f",
   "metadata": {},
   "outputs": [],
   "source": []
  }
 ],
 "metadata": {
  "kernelspec": {
   "display_name": "Python 3 (ipykernel)",
   "language": "python",
   "name": "python3"
  },
  "language_info": {
   "codemirror_mode": {
    "name": "ipython",
    "version": 3
   },
   "file_extension": ".py",
   "mimetype": "text/x-python",
   "name": "python",
   "nbconvert_exporter": "python",
   "pygments_lexer": "ipython3",
   "version": "3.10.9"
  }
 },
 "nbformat": 4,
 "nbformat_minor": 5
}
